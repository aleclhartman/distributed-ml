{
 "cells": [
  {
   "cell_type": "code",
   "execution_count": 1,
   "metadata": {},
   "outputs": [],
   "source": [
    "import pyspark\n",
    "from pyspark.sql.functions import *"
   ]
  },
  {
   "cell_type": "code",
   "execution_count": 2,
   "metadata": {},
   "outputs": [
    {
     "data": {
      "text/html": [
       "\n",
       "            <div>\n",
       "                <p><b>SparkSession - in-memory</b></p>\n",
       "                \n",
       "        <div>\n",
       "            <p><b>SparkContext</b></p>\n",
       "\n",
       "            <p><a href=\"http://192.168.1.4:4040\">Spark UI</a></p>\n",
       "\n",
       "            <dl>\n",
       "              <dt>Version</dt>\n",
       "                <dd><code>v2.4.5</code></dd>\n",
       "              <dt>Master</dt>\n",
       "                <dd><code>local[*]</code></dd>\n",
       "              <dt>AppName</dt>\n",
       "                <dd><code>pyspark-shell</code></dd>\n",
       "            </dl>\n",
       "        </div>\n",
       "        \n",
       "            </div>\n",
       "        "
      ],
      "text/plain": [
       "<pyspark.sql.session.SparkSession at 0x7feec82c9a90>"
      ]
     },
     "execution_count": 2,
     "metadata": {},
     "output_type": "execute_result"
    }
   ],
   "source": [
    "spark = pyspark.sql.SparkSession.builder.getOrCreate()\n",
    "spark"
   ]
  },
  {
   "cell_type": "markdown",
   "metadata": {},
   "source": [
    "# Exercises\n",
    "## Data Acquisition\n",
    "\n",
    "This exercises uses the `case.csv`, `dept.csv`, and `source.csv` files from the san antonio 311 call dataset.\n",
    "\n",
    "1. Read the case, department, and source data into their own spark dataframes.\n",
    "2. Let's see how writing to the local disk works in spark:\n",
    "\n",
    "    - Write the code necessary to store the source data in both csv and json format, store these as `sources_csv` and `sources_json`\n",
    "    - Inspect your folder structure. What do you notice?\n",
    "3. Inspect the data in your dataframes. Are the data types appropriate? Write the code necessary to cast the values to the appropriate types."
   ]
  },
  {
   "cell_type": "code",
   "execution_count": 3,
   "metadata": {},
   "outputs": [],
   "source": [
    "case = spark.read.csv(\"data/case.csv\", header=True, inferSchema=True)"
   ]
  },
  {
   "cell_type": "code",
   "execution_count": 4,
   "metadata": {},
   "outputs": [
    {
     "name": "stdout",
     "output_type": "stream",
     "text": [
      "-RECORD 0------------------------------------\n",
      " case_id              | 1014127332           \n",
      " case_opened_date     | 1/1/18 0:42          \n",
      " case_closed_date     | 1/1/18 12:29         \n",
      " SLA_due_date         | 9/26/20 0:42         \n",
      " case_late            | NO                   \n",
      " num_days_late        | -998.5087616000001   \n",
      " case_closed          | YES                  \n",
      " dept_division        | Field Operations     \n",
      " service_request_type | Stray Animal         \n",
      " SLA_days             | 999.0                \n",
      " case_status          | Closed               \n",
      " source_id            | svcCRMLS             \n",
      " request_address      | 2315  EL PASO ST,... \n",
      " council_district     | 5                    \n",
      "-RECORD 1------------------------------------\n",
      " case_id              | 1014127333           \n",
      " case_opened_date     | 1/1/18 0:46          \n",
      " case_closed_date     | 1/3/18 8:11          \n",
      " SLA_due_date         | 1/5/18 8:30          \n",
      " case_late            | NO                   \n",
      " num_days_late        | -2.0126041669999997  \n",
      " case_closed          | YES                  \n",
      " dept_division        | Storm Water          \n",
      " service_request_type | Removal Of Obstru... \n",
      " SLA_days             | 4.322222222          \n",
      " case_status          | Closed               \n",
      " source_id            | svcCRMSS             \n",
      " request_address      | 2215  GOLIAD RD, ... \n",
      " council_district     | 3                    \n",
      "-RECORD 2------------------------------------\n",
      " case_id              | 1014127334           \n",
      " case_opened_date     | 1/1/18 0:48          \n",
      " case_closed_date     | 1/2/18 7:57          \n",
      " SLA_due_date         | 1/5/18 8:30          \n",
      " case_late            | NO                   \n",
      " num_days_late        | -3.022337963         \n",
      " case_closed          | YES                  \n",
      " dept_division        | Storm Water          \n",
      " service_request_type | Removal Of Obstru... \n",
      " SLA_days             | 4.320729167          \n",
      " case_status          | Closed               \n",
      " source_id            | svcCRMSS             \n",
      " request_address      | 102  PALFREY ST W... \n",
      " council_district     | 3                    \n",
      "only showing top 3 rows\n",
      "\n"
     ]
    }
   ],
   "source": [
    "case.show(3, vertical=True)"
   ]
  },
  {
   "cell_type": "code",
   "execution_count": 5,
   "metadata": {},
   "outputs": [],
   "source": [
    "dept = spark.read.csv(\"data/dept.csv\", header=True, inferSchema=True)"
   ]
  },
  {
   "cell_type": "code",
   "execution_count": 6,
   "metadata": {},
   "outputs": [
    {
     "name": "stdout",
     "output_type": "stream",
     "text": [
      "-RECORD 0--------------------------------------\n",
      " dept_division          | 311 Call Center      \n",
      " dept_name              | Customer Service     \n",
      " standardized_dept_name | Customer Service     \n",
      " dept_subject_to_SLA    | YES                  \n",
      "-RECORD 1--------------------------------------\n",
      " dept_division          | Brush                \n",
      " dept_name              | Solid Waste Manag... \n",
      " standardized_dept_name | Solid Waste          \n",
      " dept_subject_to_SLA    | YES                  \n",
      "-RECORD 2--------------------------------------\n",
      " dept_division          | Clean and Green      \n",
      " dept_name              | Parks and Recreation \n",
      " standardized_dept_name | Parks & Recreation   \n",
      " dept_subject_to_SLA    | YES                  \n",
      "only showing top 3 rows\n",
      "\n"
     ]
    }
   ],
   "source": [
    "dept.show(3, vertical=True)"
   ]
  },
  {
   "cell_type": "code",
   "execution_count": 7,
   "metadata": {},
   "outputs": [],
   "source": [
    "source = spark.read.csv(\"data/source.csv\", header=True, inferSchema=True)"
   ]
  },
  {
   "cell_type": "code",
   "execution_count": 8,
   "metadata": {},
   "outputs": [
    {
     "name": "stdout",
     "output_type": "stream",
     "text": [
      "-RECORD 0---------------------------\n",
      " source_id       | 100137           \n",
      " source_username | Merlene Blodgett \n",
      "-RECORD 1---------------------------\n",
      " source_id       | 103582           \n",
      " source_username | Carmen Cura      \n",
      "-RECORD 2---------------------------\n",
      " source_id       | 106463           \n",
      " source_username | Richard Sanchez  \n",
      "only showing top 3 rows\n",
      "\n"
     ]
    }
   ],
   "source": [
    "source.show(3, vertical=True)"
   ]
  },
  {
   "cell_type": "code",
   "execution_count": 9,
   "metadata": {},
   "outputs": [],
   "source": [
    "# Write the code necessary to store the source data in both csv and json format, \n",
    "# store these as sources_csv and sources_json\n",
    "source.write.csv(\"data/sources_csv\", mode=\"overwrite\")"
   ]
  },
  {
   "cell_type": "code",
   "execution_count": 10,
   "metadata": {},
   "outputs": [],
   "source": [
    "source.write.json(\"data/sources_json\", mode=\"overwrite\")"
   ]
  },
  {
   "cell_type": "code",
   "execution_count": 11,
   "metadata": {},
   "outputs": [
    {
     "name": "stdout",
     "output_type": "stream",
     "text": [
      "root\n",
      " |-- case_id: integer (nullable = true)\n",
      " |-- case_opened_date: string (nullable = true)\n",
      " |-- case_closed_date: string (nullable = true)\n",
      " |-- SLA_due_date: string (nullable = true)\n",
      " |-- case_late: string (nullable = true)\n",
      " |-- num_days_late: double (nullable = true)\n",
      " |-- case_closed: string (nullable = true)\n",
      " |-- dept_division: string (nullable = true)\n",
      " |-- service_request_type: string (nullable = true)\n",
      " |-- SLA_days: double (nullable = true)\n",
      " |-- case_status: string (nullable = true)\n",
      " |-- source_id: string (nullable = true)\n",
      " |-- request_address: string (nullable = true)\n",
      " |-- council_district: integer (nullable = true)\n",
      "\n"
     ]
    }
   ],
   "source": [
    "case.printSchema()"
   ]
  },
  {
   "cell_type": "code",
   "execution_count": 12,
   "metadata": {},
   "outputs": [
    {
     "name": "stdout",
     "output_type": "stream",
     "text": [
      "root\n",
      " |-- case_id: integer (nullable = true)\n",
      " |-- case_opened_date: string (nullable = true)\n",
      " |-- case_closed_date: string (nullable = true)\n",
      " |-- case_due_date: string (nullable = true)\n",
      " |-- case_late: string (nullable = true)\n",
      " |-- num_days_late: double (nullable = true)\n",
      " |-- case_closed: string (nullable = true)\n",
      " |-- dept_division: string (nullable = true)\n",
      " |-- service_request_type: string (nullable = true)\n",
      " |-- SLA_days: double (nullable = true)\n",
      " |-- case_status: string (nullable = true)\n",
      " |-- source_id: string (nullable = true)\n",
      " |-- request_address: string (nullable = true)\n",
      " |-- council_district: integer (nullable = true)\n",
      "\n"
     ]
    }
   ],
   "source": [
    "case = case.withColumnRenamed(\"SLA_due_date\", \"case_due_date\")\n",
    "case.printSchema()"
   ]
  },
  {
   "cell_type": "code",
   "execution_count": 13,
   "metadata": {},
   "outputs": [],
   "source": [
    "# change data types for date columns\n",
    "case = (\n",
    "    case.withColumn(\"case_opened_date\", to_timestamp(col(\"case_opened_date\"), \"M/d/yy H:mm\"))\n",
    "    .withColumn(\"case_closed_date\", to_timestamp(col(\"case_closed_date\"), \"M/d/yy H:mm\"))\n",
    "    .withColumn(\"case_due_date\", to_timestamp(col(\"case_due_date\"), \"M/d/yy H:mm\"))\n",
    ")"
   ]
  },
  {
   "cell_type": "code",
   "execution_count": 14,
   "metadata": {},
   "outputs": [
    {
     "name": "stdout",
     "output_type": "stream",
     "text": [
      "root\n",
      " |-- case_id: integer (nullable = true)\n",
      " |-- case_opened_date: timestamp (nullable = true)\n",
      " |-- case_closed_date: timestamp (nullable = true)\n",
      " |-- case_due_date: timestamp (nullable = true)\n",
      " |-- case_late: string (nullable = true)\n",
      " |-- num_days_late: double (nullable = true)\n",
      " |-- case_closed: string (nullable = true)\n",
      " |-- dept_division: string (nullable = true)\n",
      " |-- service_request_type: string (nullable = true)\n",
      " |-- SLA_days: double (nullable = true)\n",
      " |-- case_status: string (nullable = true)\n",
      " |-- source_id: string (nullable = true)\n",
      " |-- request_address: string (nullable = true)\n",
      " |-- council_district: integer (nullable = true)\n",
      "\n"
     ]
    }
   ],
   "source": [
    "case.printSchema()"
   ]
  },
  {
   "cell_type": "code",
   "execution_count": 15,
   "metadata": {},
   "outputs": [
    {
     "name": "stdout",
     "output_type": "stream",
     "text": [
      "-RECORD 0------------------------------------\n",
      " case_id              | 1014127332           \n",
      " case_opened_date     | 2018-01-01 00:42:00  \n",
      " case_closed_date     | 2018-01-01 12:29:00  \n",
      " case_due_date        | 2020-09-26 00:42:00  \n",
      " case_late            | NO                   \n",
      " num_days_late        | -998.5087616000001   \n",
      " case_closed          | YES                  \n",
      " dept_division        | Field Operations     \n",
      " service_request_type | Stray Animal         \n",
      " SLA_days             | 999.0                \n",
      " case_status          | Closed               \n",
      " source_id            | svcCRMLS             \n",
      " request_address      | 2315  EL PASO ST,... \n",
      " council_district     | 5                    \n",
      "-RECORD 1------------------------------------\n",
      " case_id              | 1014127333           \n",
      " case_opened_date     | 2018-01-01 00:46:00  \n",
      " case_closed_date     | 2018-01-03 08:11:00  \n",
      " case_due_date        | 2018-01-05 08:30:00  \n",
      " case_late            | NO                   \n",
      " num_days_late        | -2.0126041669999997  \n",
      " case_closed          | YES                  \n",
      " dept_division        | Storm Water          \n",
      " service_request_type | Removal Of Obstru... \n",
      " SLA_days             | 4.322222222          \n",
      " case_status          | Closed               \n",
      " source_id            | svcCRMSS             \n",
      " request_address      | 2215  GOLIAD RD, ... \n",
      " council_district     | 3                    \n",
      "only showing top 2 rows\n",
      "\n"
     ]
    }
   ],
   "source": [
    "case.show(2, vertical=True)"
   ]
  },
  {
   "cell_type": "code",
   "execution_count": 16,
   "metadata": {},
   "outputs": [],
   "source": [
    "# .trim == .strip in base python\n",
    "# removes leading and trailing whitespace\n",
    "case = case.withColumn(\"request_address\", lower(trim(col(\"request_address\"))))"
   ]
  },
  {
   "cell_type": "code",
   "execution_count": 17,
   "metadata": {},
   "outputs": [],
   "source": [
    "# create zipcode column\n",
    "case = case.withColumn(\"zipcode\", regexp_extract(col(\"request_address\"), r\"\\d+$\", 0))"
   ]
  },
  {
   "cell_type": "code",
   "execution_count": 18,
   "metadata": {},
   "outputs": [
    {
     "name": "stdout",
     "output_type": "stream",
     "text": [
      "root\n",
      " |-- case_id: integer (nullable = true)\n",
      " |-- case_opened_date: timestamp (nullable = true)\n",
      " |-- case_closed_date: timestamp (nullable = true)\n",
      " |-- case_due_date: timestamp (nullable = true)\n",
      " |-- case_late: string (nullable = true)\n",
      " |-- num_days_late: double (nullable = true)\n",
      " |-- case_closed: string (nullable = true)\n",
      " |-- dept_division: string (nullable = true)\n",
      " |-- service_request_type: string (nullable = true)\n",
      " |-- SLA_days: double (nullable = true)\n",
      " |-- case_status: string (nullable = true)\n",
      " |-- source_id: string (nullable = true)\n",
      " |-- request_address: string (nullable = true)\n",
      " |-- council_district: integer (nullable = true)\n",
      " |-- zipcode: string (nullable = true)\n",
      "\n"
     ]
    }
   ],
   "source": [
    "case.printSchema()"
   ]
  },
  {
   "cell_type": "code",
   "execution_count": 19,
   "metadata": {},
   "outputs": [],
   "source": [
    "case = (\n",
    "    case.withColumn('case_late', col('case_late') == 'YES')\n",
    "    .withColumn('case_closed', col('case_closed') == 'YES')\n",
    ")"
   ]
  },
  {
   "cell_type": "code",
   "execution_count": 20,
   "metadata": {},
   "outputs": [],
   "source": [
    "case = (\n",
    "    case.withColumn(\"case_age\", datediff(current_timestamp(), \"case_opened_date\"))\n",
    "    .withColumn(\"days_to_closed\", datediff(\"case_closed_date\", \"case_opened_date\"))\n",
    "    .withColumn(\"case_lifetime\", when(col(\"case_closed\"), col(\"days_to_closed\")).otherwise(col(\"case_age\")))\n",
    "    .drop(\"case_age\", \"days_to_closed\")\n",
    ")"
   ]
  },
  {
   "cell_type": "code",
   "execution_count": 21,
   "metadata": {},
   "outputs": [
    {
     "name": "stdout",
     "output_type": "stream",
     "text": [
      "root\n",
      " |-- case_id: integer (nullable = true)\n",
      " |-- case_opened_date: timestamp (nullable = true)\n",
      " |-- case_closed_date: timestamp (nullable = true)\n",
      " |-- case_due_date: timestamp (nullable = true)\n",
      " |-- case_late: boolean (nullable = true)\n",
      " |-- num_days_late: double (nullable = true)\n",
      " |-- case_closed: boolean (nullable = true)\n",
      " |-- dept_division: string (nullable = true)\n",
      " |-- service_request_type: string (nullable = true)\n",
      " |-- SLA_days: double (nullable = true)\n",
      " |-- case_status: string (nullable = true)\n",
      " |-- source_id: string (nullable = true)\n",
      " |-- request_address: string (nullable = true)\n",
      " |-- council_district: integer (nullable = true)\n",
      " |-- zipcode: string (nullable = true)\n",
      " |-- case_lifetime: integer (nullable = true)\n",
      "\n"
     ]
    }
   ],
   "source": [
    "case.printSchema()"
   ]
  },
  {
   "cell_type": "code",
   "execution_count": 22,
   "metadata": {},
   "outputs": [],
   "source": [
    "# join dept to case\n",
    "df = case.join(dept, 'dept_division', 'left')"
   ]
  },
  {
   "cell_type": "code",
   "execution_count": 23,
   "metadata": {},
   "outputs": [
    {
     "name": "stdout",
     "output_type": "stream",
     "text": [
      "-RECORD 0--------------------------------------\n",
      " dept_division          | Field Operations     \n",
      " case_id                | 1014127332           \n",
      " case_opened_date       | 2018-01-01 00:42:00  \n",
      " case_closed_date       | 2018-01-01 12:29:00  \n",
      " case_due_date          | 2020-09-26 00:42:00  \n",
      " case_late              | false                \n",
      " num_days_late          | -998.5087616000001   \n",
      " case_closed            | true                 \n",
      " service_request_type   | Stray Animal         \n",
      " SLA_days               | 999.0                \n",
      " case_status            | Closed               \n",
      " source_id              | svcCRMLS             \n",
      " request_address        | 2315  el paso st,... \n",
      " council_district       | 5                    \n",
      " zipcode                | 78207                \n",
      " case_lifetime          | 0                    \n",
      " dept_name              | Animal Care Services \n",
      " standardized_dept_name | Animal Care Services \n",
      " dept_subject_to_SLA    | YES                  \n",
      "-RECORD 1--------------------------------------\n",
      " dept_division          | Storm Water          \n",
      " case_id                | 1014127333           \n",
      " case_opened_date       | 2018-01-01 00:46:00  \n",
      " case_closed_date       | 2018-01-03 08:11:00  \n",
      " case_due_date          | 2018-01-05 08:30:00  \n",
      " case_late              | false                \n",
      " num_days_late          | -2.0126041669999997  \n",
      " case_closed            | true                 \n",
      " service_request_type   | Removal Of Obstru... \n",
      " SLA_days               | 4.322222222          \n",
      " case_status            | Closed               \n",
      " source_id              | svcCRMSS             \n",
      " request_address        | 2215  goliad rd, ... \n",
      " council_district       | 3                    \n",
      " zipcode                | 78223                \n",
      " case_lifetime          | 2                    \n",
      " dept_name              | Trans & Cap Impro... \n",
      " standardized_dept_name | Trans & Cap Impro... \n",
      " dept_subject_to_SLA    | YES                  \n",
      "only showing top 2 rows\n",
      "\n"
     ]
    }
   ],
   "source": [
    "df.show(2, vertical=True)"
   ]
  },
  {
   "cell_type": "code",
   "execution_count": 24,
   "metadata": {},
   "outputs": [],
   "source": [
    "# join source to df\n",
    "df = df.join(source, \"source_id\", \"left\")"
   ]
  },
  {
   "cell_type": "code",
   "execution_count": 25,
   "metadata": {},
   "outputs": [
    {
     "name": "stdout",
     "output_type": "stream",
     "text": [
      "-RECORD 0--------------------------------------\n",
      " source_id              | svcCRMLS             \n",
      " dept_division          | Field Operations     \n",
      " case_id                | 1014127332           \n",
      " case_opened_date       | 2018-01-01 00:42:00  \n",
      " case_closed_date       | 2018-01-01 12:29:00  \n",
      " case_due_date          | 2020-09-26 00:42:00  \n",
      " case_late              | false                \n",
      " num_days_late          | -998.5087616000001   \n",
      " case_closed            | true                 \n",
      " service_request_type   | Stray Animal         \n",
      " SLA_days               | 999.0                \n",
      " case_status            | Closed               \n",
      " request_address        | 2315  el paso st,... \n",
      " council_district       | 5                    \n",
      " zipcode                | 78207                \n",
      " case_lifetime          | 0                    \n",
      " dept_name              | Animal Care Services \n",
      " standardized_dept_name | Animal Care Services \n",
      " dept_subject_to_SLA    | YES                  \n",
      " source_username        | svcCRMLS             \n",
      "-RECORD 1--------------------------------------\n",
      " source_id              | svcCRMSS             \n",
      " dept_division          | Storm Water          \n",
      " case_id                | 1014127333           \n",
      " case_opened_date       | 2018-01-01 00:46:00  \n",
      " case_closed_date       | 2018-01-03 08:11:00  \n",
      " case_due_date          | 2018-01-05 08:30:00  \n",
      " case_late              | false                \n",
      " num_days_late          | -2.0126041669999997  \n",
      " case_closed            | true                 \n",
      " service_request_type   | Removal Of Obstru... \n",
      " SLA_days               | 4.322222222          \n",
      " case_status            | Closed               \n",
      " request_address        | 2215  goliad rd, ... \n",
      " council_district       | 3                    \n",
      " zipcode                | 78223                \n",
      " case_lifetime          | 2                    \n",
      " dept_name              | Trans & Cap Impro... \n",
      " standardized_dept_name | Trans & Cap Impro... \n",
      " dept_subject_to_SLA    | YES                  \n",
      " source_username        | svcCRMSS             \n",
      "only showing top 2 rows\n",
      "\n"
     ]
    }
   ],
   "source": [
    "df.show(2, vertical=True)"
   ]
  },
  {
   "cell_type": "code",
   "execution_count": 26,
   "metadata": {},
   "outputs": [
    {
     "name": "stdout",
     "output_type": "stream",
     "text": [
      "root\n",
      " |-- source_id: string (nullable = true)\n",
      " |-- dept_division: string (nullable = true)\n",
      " |-- case_id: integer (nullable = true)\n",
      " |-- case_opened_date: timestamp (nullable = true)\n",
      " |-- case_closed_date: timestamp (nullable = true)\n",
      " |-- case_due_date: timestamp (nullable = true)\n",
      " |-- case_late: boolean (nullable = true)\n",
      " |-- num_days_late: double (nullable = true)\n",
      " |-- case_closed: boolean (nullable = true)\n",
      " |-- service_request_type: string (nullable = true)\n",
      " |-- SLA_days: double (nullable = true)\n",
      " |-- case_status: string (nullable = true)\n",
      " |-- request_address: string (nullable = true)\n",
      " |-- council_district: integer (nullable = true)\n",
      " |-- zipcode: string (nullable = true)\n",
      " |-- case_lifetime: integer (nullable = true)\n",
      " |-- dept_name: string (nullable = true)\n",
      " |-- standardized_dept_name: string (nullable = true)\n",
      " |-- dept_subject_to_SLA: string (nullable = true)\n",
      " |-- source_username: string (nullable = true)\n",
      "\n"
     ]
    }
   ],
   "source": [
    "df.printSchema()"
   ]
  },
  {
   "cell_type": "code",
   "execution_count": 27,
   "metadata": {},
   "outputs": [
    {
     "name": "stdout",
     "output_type": "stream",
     "text": [
      "-RECORD 0--------------------------------------\n",
      " source_id              | svcCRMLS             \n",
      " dept_division          | Graffiti             \n",
      " case_id                | 1014127573           \n",
      " case_opened_date       | 2018-01-01 14:48:00  \n",
      " case_closed_date       | 2018-01-02 16:58:00  \n",
      " case_due_date          | 2018-01-04 08:30:00  \n",
      " case_late              | false                \n",
      " num_days_late          | -1.6467245369999999  \n",
      " case_closed            | true                 \n",
      " service_request_type   | Graffiti Public P... \n",
      " SLA_days               | 2.73681713           \n",
      " case_status            | Closed               \n",
      " request_address        | 1904  broadway, s... \n",
      " council_district       | 2                    \n",
      " zipcode                | 78215                \n",
      " case_lifetime          | 1                    \n",
      " dept_name              | Code Enforcement ... \n",
      " standardized_dept_name | DSD/Code Enforcement \n",
      " dept_subject_to_SLA    | YES                  \n",
      " source_username        | svcCRMLS             \n",
      "-RECORD 1--------------------------------------\n",
      " source_id              | 124405               \n",
      " dept_division          | Field Operations     \n",
      " case_id                | 1014127588           \n",
      " case_opened_date       | 2018-01-01 15:09:00  \n",
      " case_closed_date       | 2018-01-01 16:29:00  \n",
      " case_due_date          | 2018-01-01 18:09:00  \n",
      " case_late              | false                \n",
      " num_days_late          | -0.06962963          \n",
      " case_closed            | true                 \n",
      " service_request_type   | Injured Animal(Cr... \n",
      " SLA_days               | 0.125                \n",
      " case_status            | Closed               \n",
      " request_address        | nb loop 410 sw an... \n",
      " council_district       | 4                    \n",
      " zipcode                |                      \n",
      " case_lifetime          | 0                    \n",
      " dept_name              | Animal Care Services \n",
      " standardized_dept_name | Animal Care Services \n",
      " dept_subject_to_SLA    | YES                  \n",
      " source_username        | Lori Lara            \n",
      "-RECORD 2--------------------------------------\n",
      " source_id              | svcCRMSS             \n",
      " dept_division          | Code Enforcement     \n",
      " case_id                | 1014127679           \n",
      " case_opened_date       | 2018-01-01 17:21:00  \n",
      " case_closed_date       | 2018-01-02 15:27:00  \n",
      " case_due_date          | 2018-01-17 08:30:00  \n",
      " case_late              | false                \n",
      " num_days_late          | -14.71015046         \n",
      " case_closed            | true                 \n",
      " service_request_type   | Right Of Way/Side... \n",
      " SLA_days               | 15.63056713          \n",
      " case_status            | Closed               \n",
      " request_address        | 837  barrel point... \n",
      " council_district       | 4                    \n",
      " zipcode                | 78251                \n",
      " case_lifetime          | 1                    \n",
      " dept_name              | Code Enforcement ... \n",
      " standardized_dept_name | DSD/Code Enforcement \n",
      " dept_subject_to_SLA    | YES                  \n",
      " source_username        | svcCRMSS             \n",
      "only showing top 3 rows\n",
      "\n"
     ]
    }
   ],
   "source": [
    "df.sample(fraction=.01).show(3, vertical=True)"
   ]
  },
  {
   "cell_type": "code",
   "execution_count": 28,
   "metadata": {},
   "outputs": [],
   "source": [
    "df = (\n",
    "    df.withColumn('dept_subject_to_SLA', col('dept_subject_to_SLA') == 'YES')\n",
    ")"
   ]
  },
  {
   "cell_type": "code",
   "execution_count": 29,
   "metadata": {},
   "outputs": [
    {
     "name": "stdout",
     "output_type": "stream",
     "text": [
      "-RECORD 0--------------------------------------\n",
      " source_id              | 139344               \n",
      " dept_division          | Field Operations     \n",
      " case_id                | 1014127554           \n",
      " case_opened_date       | 2018-01-01 14:08:00  \n",
      " case_closed_date       | 2018-01-03 21:17:00  \n",
      " case_due_date          | 2018-01-06 14:08:00  \n",
      " case_late              | false                \n",
      " num_days_late          | -2.701863426         \n",
      " case_closed            | true                 \n",
      " service_request_type   | Animal Neglect       \n",
      " SLA_days               | 5.0                  \n",
      " case_status            | Closed               \n",
      " request_address        | 13215  loma valle... \n",
      " council_district       | 10                   \n",
      " zipcode                | 78233                \n",
      " case_lifetime          | 2                    \n",
      " dept_name              | Animal Care Services \n",
      " standardized_dept_name | Animal Care Services \n",
      " dept_subject_to_SLA    | true                 \n",
      " source_username        | Isis Mendoza         \n",
      "-RECORD 1--------------------------------------\n",
      " source_id              | rs16746              \n",
      " dept_division          | Field Operations     \n",
      " case_id                | 1014127761           \n",
      " case_opened_date       | 2018-01-01 21:28:00  \n",
      " case_closed_date       | 2018-01-02 11:27:00  \n",
      " case_due_date          | 2018-01-06 21:28:00  \n",
      " case_late              | false                \n",
      " num_days_late          | -4.4171875           \n",
      " case_closed            | true                 \n",
      " service_request_type   | Animal Neglect       \n",
      " SLA_days               | 5.0                  \n",
      " case_status            | Closed               \n",
      " request_address        | 5439  prairie flo... \n",
      " council_district       | 4                    \n",
      " zipcode                | 78242                \n",
      " case_lifetime          | 1                    \n",
      " dept_name              | Animal Care Services \n",
      " standardized_dept_name | Animal Care Services \n",
      " dept_subject_to_SLA    | true                 \n",
      " source_username        | Ronald S. Sorrell    \n",
      "-RECORD 2--------------------------------------\n",
      " source_id              | NO10960              \n",
      " dept_division          | Waste Collection     \n",
      " case_id                | 1014128115           \n",
      " case_opened_date       | 2018-01-02 08:39:00  \n",
      " case_closed_date       | 2018-01-06 12:53:00  \n",
      " case_due_date          | 2018-01-09 08:39:00  \n",
      " case_late              | false                \n",
      " num_days_late          | -2.823900463         \n",
      " case_closed            | true                 \n",
      " service_request_type   | Cart Exchange Req... \n",
      " SLA_days               | 7.0                  \n",
      " case_status            | Closed               \n",
      " request_address        | 13235  chavez cir... \n",
      " council_district       | 10                   \n",
      " zipcode                | 78233                \n",
      " case_lifetime          | 4                    \n",
      " dept_name              | Solid Waste Manag... \n",
      " standardized_dept_name | Solid Waste          \n",
      " dept_subject_to_SLA    | true                 \n",
      " source_username        | Nadine Olmos         \n",
      "only showing top 3 rows\n",
      "\n"
     ]
    }
   ],
   "source": [
    "df.sample(fraction=.01).show(3, vertical=True)"
   ]
  },
  {
   "cell_type": "markdown",
   "metadata": {},
   "source": [
    "---\n",
    "\n",
    "1. How old is the latest (in terms of days past SLA {`case_due_date`}) currently open issue? How long has the oldest (in terms of days since opened) currently opened issue been open?\n",
    "2. How many Stray Animal cases are there?\n",
    "3. How many service requests that are assigned to the Field Operations department (`dept_division`) are not classified as \"Officer Standby\" request type (`service_request_type`)?\n",
    "\n",
    "4. Convert the `council_district` column to a string column.\n",
    "\n",
    "5. Extract the year from the `case_closed_date` column.\n",
    "6. Convert `num_days_late` from days to hours in new `columns num_hours_late`.\n",
    "\n",
    "7. Join the case data with the source and department data.\n",
    "\n",
    "8. Are there any cases that do not have a request source?\n",
    "\n",
    "9. What are the top 10 service request types in terms of number of requests?\n",
    "\n",
    "10. What are the top 10 service request types in terms of average days late?\n",
    "11. Does number of days late depend on department?\n",
    "12. How do number of days late depend on department and request type?"
   ]
  },
  {
   "cell_type": "markdown",
   "metadata": {},
   "source": [
    "In case we want to query our dataframe with Spark SQL:"
   ]
  },
  {
   "cell_type": "code",
   "execution_count": 30,
   "metadata": {},
   "outputs": [],
   "source": [
    "df.createOrReplaceTempView('df')"
   ]
  },
  {
   "cell_type": "code",
   "execution_count": 31,
   "metadata": {},
   "outputs": [
    {
     "name": "stdout",
     "output_type": "stream",
     "text": [
      "+-------------+\n",
      "|days_past_due|\n",
      "+-------------+\n",
      "|         1241|\n",
      "|         1241|\n",
      "|         1241|\n",
      "|         1240|\n",
      "|         1238|\n",
      "|         1234|\n",
      "|         1234|\n",
      "|         1233|\n",
      "|         1232|\n",
      "|         1232|\n",
      "|         1228|\n",
      "|         1227|\n",
      "|         1227|\n",
      "|         1227|\n",
      "|         1224|\n",
      "+-------------+\n",
      "\n"
     ]
    }
   ],
   "source": [
    "# How old is the latest (in terms of days past SLA {case_due_date}) currently open issue?\n",
    "spark.sql('''\n",
    "SELECT DATEDIFF(current_timestamp, case_due_date) AS days_past_due\n",
    "FROM df\n",
    "WHERE NOT case_closed\n",
    "ORDER BY days_past_due DESC\n",
    "LIMIT 15\n",
    "''').show()\n",
    "# zach's solution"
   ]
  },
  {
   "cell_type": "code",
   "execution_count": 32,
   "metadata": {},
   "outputs": [
    {
     "name": "stdout",
     "output_type": "stream",
     "text": [
      "+---------------------------+\n",
      "|days_since_case_opened_date|\n",
      "+---------------------------+\n",
      "|                       1257|\n",
      "|                       1257|\n",
      "|                       1256|\n",
      "|                       1255|\n",
      "|                       1254|\n",
      "+---------------------------+\n",
      "only showing top 5 rows\n",
      "\n"
     ]
    }
   ],
   "source": [
    "# How long has the oldest (in terms of days since opened) currently opened issue been open?\n",
    "df.select(\n",
    "    when(col(\"case_closed\"), 0).otherwise(col(\"case_lifetime\")).alias(\"days_since_case_opened_date\")\n",
    ").orderBy(col(\"days_since_case_opened_date\"), ascending=False).show(5)"
   ]
  },
  {
   "cell_type": "code",
   "execution_count": 33,
   "metadata": {},
   "outputs": [
    {
     "name": "stdout",
     "output_type": "stream",
     "text": [
      "+------------------+\n",
      "|stray_animal_cases|\n",
      "+------------------+\n",
      "|             27361|\n",
      "+------------------+\n",
      "\n"
     ]
    }
   ],
   "source": [
    "# How many Stray Animal cases are there?\n",
    "df.select(\n",
    "    sum(when(col(\"service_request_type\") == \"Stray Animal\", 1).otherwise(0)).alias(\"stray_animal_cases\")\n",
    ").show()"
   ]
  },
  {
   "cell_type": "code",
   "execution_count": 34,
   "metadata": {},
   "outputs": [
    {
     "name": "stdout",
     "output_type": "stream",
     "text": [
      "Total rows in df = 855,269\n"
     ]
    }
   ],
   "source": [
    "print(f\"Total rows in df = {df.count():,}\")"
   ]
  },
  {
   "cell_type": "code",
   "execution_count": 35,
   "metadata": {},
   "outputs": [
    {
     "name": "stdout",
     "output_type": "stream",
     "text": [
      "+-----------------------------------------------------+\n",
      "|field_ops_assigned_and_not_officer_standby_classified|\n",
      "+-----------------------------------------------------+\n",
      "|                                               116295|\n",
      "+-----------------------------------------------------+\n",
      "\n"
     ]
    }
   ],
   "source": [
    "# How many service requests that are assigned to the Field Operations department (dept_division)\n",
    "# are not classified as \"Officer Standby\" request type (service_request_type)?\n",
    "df.select(\n",
    "    sum(when((col(\"dept_division\") == \"Field Operations\") & (col(\"service_request_type\") != \"Officer Standby\"), 1)\n",
    "        .otherwise(0))\n",
    "        .alias(\"field_ops_assigned_and_not_officer_standby_classified\")\n",
    ").show()"
   ]
  },
  {
   "cell_type": "code",
   "execution_count": 36,
   "metadata": {},
   "outputs": [
    {
     "name": "stdout",
     "output_type": "stream",
     "text": [
      "+--------------------+\n",
      "|service_request_type|\n",
      "+--------------------+\n",
      "|\"Vacant Lot-City ...|\n",
      "|\"Vacant Lot-City ...|\n",
      "|\"Vacant Lot-Count...|\n",
      "|\"Vacant Lot-Count...|\n",
      "|\"Vacant Lot-Priva...|\n",
      "|\"Vacant Lot-Priva...|\n",
      "|\"Vacant Lot-State...|\n",
      "|\"Vacant Lot-State...|\n",
      "|1st Call Bagged L...|\n",
      "|2nd Call Bagged L...|\n",
      "|3rd Call Bagged L...|\n",
      "|ADA Infrastructur...|\n",
      "|    ADA Obstructions|\n",
      "|Absentee Property...|\n",
      "|Accident Problem ...|\n",
      "|Additional Cart R...|\n",
      "|Additional Garbag...|\n",
      "|Additional Organi...|\n",
      "|Aggressive Animal...|\n",
      "|Aggressive Animal...|\n",
      "+--------------------+\n",
      "only showing top 20 rows\n",
      "\n"
     ]
    }
   ],
   "source": [
    "# unique service_request_type\n",
    "df.select(\n",
    "    col(\"service_request_type\")\n",
    ").orderBy(col(\"service_request_type\")).distinct().show()"
   ]
  },
  {
   "cell_type": "code",
   "execution_count": 37,
   "metadata": {},
   "outputs": [
    {
     "data": {
      "text/plain": [
       "[('source_id', 'string'),\n",
       " ('dept_division', 'string'),\n",
       " ('case_id', 'int'),\n",
       " ('case_opened_date', 'timestamp'),\n",
       " ('case_closed_date', 'timestamp'),\n",
       " ('case_due_date', 'timestamp'),\n",
       " ('case_late', 'boolean'),\n",
       " ('num_days_late', 'double'),\n",
       " ('case_closed', 'boolean'),\n",
       " ('service_request_type', 'string'),\n",
       " ('SLA_days', 'double'),\n",
       " ('case_status', 'string'),\n",
       " ('request_address', 'string'),\n",
       " ('council_district', 'int'),\n",
       " ('zipcode', 'string'),\n",
       " ('case_lifetime', 'int'),\n",
       " ('dept_name', 'string'),\n",
       " ('standardized_dept_name', 'string'),\n",
       " ('dept_subject_to_SLA', 'boolean'),\n",
       " ('source_username', 'string')]"
      ]
     },
     "execution_count": 37,
     "metadata": {},
     "output_type": "execute_result"
    }
   ],
   "source": [
    "# Convert the council_district column to a string column.\n",
    "\n",
    "# data types\n",
    "df.dtypes"
   ]
  },
  {
   "cell_type": "code",
   "execution_count": 38,
   "metadata": {},
   "outputs": [],
   "source": [
    "# Convert the council_district column to a string column.\n",
    "\n",
    "# transform council_district from an integer to string\n",
    "# we will not be doing arithmetic with council_district\n",
    "df = df.withColumn('council_district', format_string('%04d', col('council_district')))"
   ]
  },
  {
   "cell_type": "code",
   "execution_count": 39,
   "metadata": {},
   "outputs": [
    {
     "data": {
      "text/plain": [
       "[('source_id', 'string'),\n",
       " ('dept_division', 'string'),\n",
       " ('case_id', 'int'),\n",
       " ('case_opened_date', 'timestamp'),\n",
       " ('case_closed_date', 'timestamp'),\n",
       " ('case_due_date', 'timestamp'),\n",
       " ('case_late', 'boolean'),\n",
       " ('num_days_late', 'double'),\n",
       " ('case_closed', 'boolean'),\n",
       " ('service_request_type', 'string'),\n",
       " ('SLA_days', 'double'),\n",
       " ('case_status', 'string'),\n",
       " ('request_address', 'string'),\n",
       " ('council_district', 'string'),\n",
       " ('zipcode', 'string'),\n",
       " ('case_lifetime', 'int'),\n",
       " ('dept_name', 'string'),\n",
       " ('standardized_dept_name', 'string'),\n",
       " ('dept_subject_to_SLA', 'boolean'),\n",
       " ('source_username', 'string')]"
      ]
     },
     "execution_count": 39,
     "metadata": {},
     "output_type": "execute_result"
    }
   ],
   "source": [
    "df.dtypes"
   ]
  },
  {
   "cell_type": "code",
   "execution_count": 40,
   "metadata": {},
   "outputs": [
    {
     "name": "stdout",
     "output_type": "stream",
     "text": [
      "+----------------+\n",
      "|case_closed_year|\n",
      "+----------------+\n",
      "|            2018|\n",
      "|            2018|\n",
      "|            2018|\n",
      "|            2018|\n",
      "|            2018|\n",
      "+----------------+\n",
      "only showing top 5 rows\n",
      "\n"
     ]
    }
   ],
   "source": [
    "# Extract the year from the case_closed_date column.\n",
    "df.select(\n",
    "    year(col(\"case_closed_date\")).alias(\"case_closed_year\")\n",
    ").show(5)"
   ]
  },
  {
   "cell_type": "code",
   "execution_count": 41,
   "metadata": {},
   "outputs": [],
   "source": [
    "df = df.withColumn(\"case_closed_year\", year(col(\"case_closed_date\")))"
   ]
  },
  {
   "cell_type": "code",
   "execution_count": 42,
   "metadata": {},
   "outputs": [
    {
     "name": "stdout",
     "output_type": "stream",
     "text": [
      "-RECORD 0--------------------------------------\n",
      " source_id              | svcCRMLS             \n",
      " dept_division          | Field Operations     \n",
      " case_id                | 1014127332           \n",
      " case_opened_date       | 2018-01-01 00:42:00  \n",
      " case_closed_date       | 2018-01-01 12:29:00  \n",
      " case_due_date          | 2020-09-26 00:42:00  \n",
      " case_late              | false                \n",
      " num_days_late          | -998.5087616000001   \n",
      " case_closed            | true                 \n",
      " service_request_type   | Stray Animal         \n",
      " SLA_days               | 999.0                \n",
      " case_status            | Closed               \n",
      " request_address        | 2315  el paso st,... \n",
      " council_district       | 0005                 \n",
      " zipcode                | 78207                \n",
      " case_lifetime          | 0                    \n",
      " dept_name              | Animal Care Services \n",
      " standardized_dept_name | Animal Care Services \n",
      " dept_subject_to_SLA    | true                 \n",
      " source_username        | svcCRMLS             \n",
      " case_closed_year       | 2018                 \n",
      "-RECORD 1--------------------------------------\n",
      " source_id              | svcCRMSS             \n",
      " dept_division          | Storm Water          \n",
      " case_id                | 1014127333           \n",
      " case_opened_date       | 2018-01-01 00:46:00  \n",
      " case_closed_date       | 2018-01-03 08:11:00  \n",
      " case_due_date          | 2018-01-05 08:30:00  \n",
      " case_late              | false                \n",
      " num_days_late          | -2.0126041669999997  \n",
      " case_closed            | true                 \n",
      " service_request_type   | Removal Of Obstru... \n",
      " SLA_days               | 4.322222222          \n",
      " case_status            | Closed               \n",
      " request_address        | 2215  goliad rd, ... \n",
      " council_district       | 0003                 \n",
      " zipcode                | 78223                \n",
      " case_lifetime          | 2                    \n",
      " dept_name              | Trans & Cap Impro... \n",
      " standardized_dept_name | Trans & Cap Impro... \n",
      " dept_subject_to_SLA    | true                 \n",
      " source_username        | svcCRMSS             \n",
      " case_closed_year       | 2018                 \n",
      "-RECORD 2--------------------------------------\n",
      " source_id              | svcCRMSS             \n",
      " dept_division          | Storm Water          \n",
      " case_id                | 1014127334           \n",
      " case_opened_date       | 2018-01-01 00:48:00  \n",
      " case_closed_date       | 2018-01-02 07:57:00  \n",
      " case_due_date          | 2018-01-05 08:30:00  \n",
      " case_late              | false                \n",
      " num_days_late          | -3.022337963         \n",
      " case_closed            | true                 \n",
      " service_request_type   | Removal Of Obstru... \n",
      " SLA_days               | 4.320729167          \n",
      " case_status            | Closed               \n",
      " request_address        | 102  palfrey st w... \n",
      " council_district       | 0003                 \n",
      " zipcode                | 78223                \n",
      " case_lifetime          | 1                    \n",
      " dept_name              | Trans & Cap Impro... \n",
      " standardized_dept_name | Trans & Cap Impro... \n",
      " dept_subject_to_SLA    | true                 \n",
      " source_username        | svcCRMSS             \n",
      " case_closed_year       | 2018                 \n",
      "only showing top 3 rows\n",
      "\n"
     ]
    }
   ],
   "source": [
    "df.show(3, vertical=True)"
   ]
  },
  {
   "cell_type": "code",
   "execution_count": 43,
   "metadata": {},
   "outputs": [],
   "source": [
    "# Convert num_days_late from days to hours in new column num_hours_late.\n",
    "df = df.withColumn(\"num_hours_late\", col(\"num_days_late\") * 24)"
   ]
  },
  {
   "cell_type": "code",
   "execution_count": 44,
   "metadata": {},
   "outputs": [
    {
     "name": "stdout",
     "output_type": "stream",
     "text": [
      "-RECORD 0--------------------------------------\n",
      " source_id              | svcCRMSS             \n",
      " dept_division          | Code Enforcement     \n",
      " case_id                | 1014127358           \n",
      " case_opened_date       | 2018-01-01 07:12:00  \n",
      " case_closed_date       | 2018-01-02 15:35:00  \n",
      " case_due_date          | 2018-01-17 08:30:00  \n",
      " case_late              | false                \n",
      " num_days_late          | -14.70469907         \n",
      " case_closed            | true                 \n",
      " service_request_type   | Right Of Way/Side... \n",
      " SLA_days               | 16.0540625           \n",
      " case_status            | Closed               \n",
      " request_address        | 837  barrel point... \n",
      " council_district       | 0004                 \n",
      " zipcode                | 78251                \n",
      " case_lifetime          | 1                    \n",
      " dept_name              | Code Enforcement ... \n",
      " standardized_dept_name | DSD/Code Enforcement \n",
      " dept_subject_to_SLA    | true                 \n",
      " source_username        | svcCRMSS             \n",
      " case_closed_year       | 2018                 \n",
      " num_hours_late         | -352.91277768        \n",
      "-RECORD 1--------------------------------------\n",
      " source_id              | ns16326              \n",
      " dept_division          | Field Operations     \n",
      " case_id                | 1014127633           \n",
      " case_opened_date       | 2018-01-01 16:25:00  \n",
      " case_closed_date       | 2018-01-01 17:10:00  \n",
      " case_due_date          | 2020-09-26 16:25:00  \n",
      " case_late              | false                \n",
      " num_days_late          | -998.9689931         \n",
      " case_closed            | true                 \n",
      " service_request_type   | Stray Animal         \n",
      " SLA_days               | 999.0                \n",
      " case_status            | Closed               \n",
      " request_address        | 5400  timbermont,... \n",
      " council_district       | 0006                 \n",
      " zipcode                | 78250                \n",
      " case_lifetime          | 0                    \n",
      " dept_name              | Animal Care Services \n",
      " standardized_dept_name | Animal Care Services \n",
      " dept_subject_to_SLA    | true                 \n",
      " source_username        | Norma K. Sotoodeh    \n",
      " case_closed_year       | 2018                 \n",
      " num_hours_late         | -23975.2558344       \n",
      "-RECORD 2--------------------------------------\n",
      " source_id              | 139344               \n",
      " dept_division          | Field Operations     \n",
      " case_id                | 1014127640           \n",
      " case_opened_date       | 2018-01-01 16:41:00  \n",
      " case_closed_date       | 2018-01-01 17:53:00  \n",
      " case_due_date          | 2018-01-06 16:41:00  \n",
      " case_late              | false                \n",
      " num_days_late          | -4.950115741         \n",
      " case_closed            | true                 \n",
      " service_request_type   | Animal Neglect       \n",
      " SLA_days               | 5.0                  \n",
      " case_status            | Closed               \n",
      " request_address        | 470  magnolia ave... \n",
      " council_district       | 0001                 \n",
      " zipcode                | 78212                \n",
      " case_lifetime          | 0                    \n",
      " dept_name              | Animal Care Services \n",
      " standardized_dept_name | Animal Care Services \n",
      " dept_subject_to_SLA    | true                 \n",
      " source_username        | Isis Mendoza         \n",
      " case_closed_year       | 2018                 \n",
      " num_hours_late         | -118.802777784       \n",
      "only showing top 3 rows\n",
      "\n"
     ]
    }
   ],
   "source": [
    "df.sample(fraction=.01).show(3, vertical=True)"
   ]
  },
  {
   "cell_type": "code",
   "execution_count": 45,
   "metadata": {},
   "outputs": [],
   "source": [
    "# Join the case data with the source and department data\n",
    "# done above"
   ]
  },
  {
   "cell_type": "code",
   "execution_count": 46,
   "metadata": {},
   "outputs": [
    {
     "name": "stdout",
     "output_type": "stream",
     "text": [
      "root\n",
      " |-- source_id: string (nullable = true)\n",
      " |-- dept_division: string (nullable = true)\n",
      " |-- case_id: integer (nullable = true)\n",
      " |-- case_opened_date: timestamp (nullable = true)\n",
      " |-- case_closed_date: timestamp (nullable = true)\n",
      " |-- case_due_date: timestamp (nullable = true)\n",
      " |-- case_late: boolean (nullable = true)\n",
      " |-- num_days_late: double (nullable = true)\n",
      " |-- case_closed: boolean (nullable = true)\n",
      " |-- service_request_type: string (nullable = true)\n",
      " |-- SLA_days: double (nullable = true)\n",
      " |-- case_status: string (nullable = true)\n",
      " |-- request_address: string (nullable = true)\n",
      " |-- council_district: string (nullable = false)\n",
      " |-- zipcode: string (nullable = true)\n",
      " |-- case_lifetime: integer (nullable = true)\n",
      " |-- dept_name: string (nullable = true)\n",
      " |-- standardized_dept_name: string (nullable = true)\n",
      " |-- dept_subject_to_SLA: boolean (nullable = true)\n",
      " |-- source_username: string (nullable = true)\n",
      " |-- case_closed_year: integer (nullable = true)\n",
      " |-- num_hours_late: double (nullable = true)\n",
      "\n"
     ]
    }
   ],
   "source": [
    "# Are there any cases that do not have a request source?\n",
    "df.printSchema()"
   ]
  },
  {
   "cell_type": "code",
   "execution_count": 47,
   "metadata": {},
   "outputs": [
    {
     "name": "stdout",
     "output_type": "stream",
     "text": [
      "+------------------+\n",
      "|(source_id = NULL)|\n",
      "+------------------+\n",
      "|             false|\n",
      "|             false|\n",
      "|             false|\n",
      "|             false|\n",
      "|             false|\n",
      "|             false|\n",
      "|             false|\n",
      "|             false|\n",
      "|             false|\n",
      "|             false|\n",
      "|             false|\n",
      "|             false|\n",
      "|             false|\n",
      "|             false|\n",
      "|             false|\n",
      "|             false|\n",
      "|             false|\n",
      "|             false|\n",
      "|             false|\n",
      "|             false|\n",
      "+------------------+\n",
      "only showing top 20 rows\n",
      "\n"
     ]
    }
   ],
   "source": [
    "df.select(\n",
    "    col(\"source_id\") == \"NULL\"\n",
    ").show()"
   ]
  },
  {
   "cell_type": "code",
   "execution_count": 48,
   "metadata": {},
   "outputs": [
    {
     "name": "stdout",
     "output_type": "stream",
     "text": [
      "+---------+\n",
      "|source_id|\n",
      "+---------+\n",
      "|   100137|\n",
      "|   103582|\n",
      "|   106463|\n",
      "|   119403|\n",
      "|   119555|\n",
      "|   119868|\n",
      "|   120752|\n",
      "|   124405|\n",
      "|   132408|\n",
      "|   135723|\n",
      "|   136202|\n",
      "|   136979|\n",
      "|   137943|\n",
      "|   138605|\n",
      "|   138650|\n",
      "|   138793|\n",
      "|   138810|\n",
      "|   139342|\n",
      "|   139344|\n",
      "|   139345|\n",
      "+---------+\n",
      "only showing top 20 rows\n",
      "\n"
     ]
    }
   ],
   "source": [
    "df.select(col(\"source_id\")).orderBy(col(\"source_id\")).distinct().show()"
   ]
  },
  {
   "cell_type": "code",
   "execution_count": 49,
   "metadata": {},
   "outputs": [
    {
     "name": "stdout",
     "output_type": "stream",
     "text": [
      "+--------------------+\n",
      "|source_username_null|\n",
      "+--------------------+\n",
      "|            not null|\n",
      "|            not null|\n",
      "|            not null|\n",
      "|            not null|\n",
      "|            not null|\n",
      "|            not null|\n",
      "|            not null|\n",
      "|            not null|\n",
      "|            not null|\n",
      "|            not null|\n",
      "|            not null|\n",
      "|            not null|\n",
      "|            not null|\n",
      "|            not null|\n",
      "|            not null|\n",
      "|            not null|\n",
      "|            not null|\n",
      "|            not null|\n",
      "|            not null|\n",
      "|            not null|\n",
      "+--------------------+\n",
      "only showing top 20 rows\n",
      "\n"
     ]
    }
   ],
   "source": [
    "df.select(\n",
    "        when(col(\"source_username\") == \"null\", col(\"source_username\"))\n",
    "        .otherwise(\"not null\").alias(\"source_username_null\")\n",
    ").orderBy(col(\"source_username_null\"), ascending=False).show()"
   ]
  },
  {
   "cell_type": "code",
   "execution_count": 50,
   "metadata": {},
   "outputs": [
    {
     "name": "stdout",
     "output_type": "stream",
     "text": [
      "+--------------+\n",
      "|source_id_null|\n",
      "+--------------+\n",
      "|      not null|\n",
      "|      not null|\n",
      "|      not null|\n",
      "|      not null|\n",
      "|      not null|\n",
      "|      not null|\n",
      "|      not null|\n",
      "|      not null|\n",
      "|      not null|\n",
      "|      not null|\n",
      "|      not null|\n",
      "|      not null|\n",
      "|      not null|\n",
      "|      not null|\n",
      "|      not null|\n",
      "|      not null|\n",
      "|      not null|\n",
      "|      not null|\n",
      "|      not null|\n",
      "|      not null|\n",
      "+--------------+\n",
      "only showing top 20 rows\n",
      "\n"
     ]
    }
   ],
   "source": [
    "df.select(\n",
    "        when(col(\"source_id\") == \"null\", col(\"source_id\"))\n",
    "        .otherwise(\"not null\").alias(\"source_id_null\")\n",
    ").orderBy(col(\"source_id_null\"), ascending=True).show()"
   ]
  },
  {
   "cell_type": "code",
   "execution_count": 51,
   "metadata": {},
   "outputs": [],
   "source": [
    "# Are there any cases that do not have a request source?\n",
    "# no"
   ]
  },
  {
   "cell_type": "code",
   "execution_count": 52,
   "metadata": {},
   "outputs": [
    {
     "name": "stdout",
     "output_type": "stream",
     "text": [
      "+------------+\n",
      "|sum(is_null)|\n",
      "+------------+\n",
      "|           0|\n",
      "+------------+\n",
      "\n"
     ]
    }
   ],
   "source": [
    "# Are there any cases that do not have a request source?\n",
    "# zach's solution\n",
    "\n",
    "df.select(df.source_id.isNull().cast('int').alias('is_null')).agg(sum('is_null')).show()"
   ]
  },
  {
   "cell_type": "code",
   "execution_count": 53,
   "metadata": {},
   "outputs": [
    {
     "data": {
      "text/plain": [
       "0"
      ]
     },
     "execution_count": 53,
     "metadata": {},
     "output_type": "execute_result"
    }
   ],
   "source": [
    "# Are there any cases that do not have a request source?\n",
    "# cameron's solution\n",
    "df.where(df.source_id.isNull()).count()"
   ]
  },
  {
   "cell_type": "code",
   "execution_count": 54,
   "metadata": {},
   "outputs": [
    {
     "name": "stdout",
     "output_type": "stream",
     "text": [
      "+--------------------+-----+\n",
      "|service_request_type|count|\n",
      "+--------------------+-----+\n",
      "|           No Pickup|89210|\n",
      "|Overgrown Yard/Trash|66403|\n",
      "|        Bandit Signs|32968|\n",
      "|        Damaged Cart|31163|\n",
      "|Front Or Side Yar...|28920|\n",
      "|        Stray Animal|27361|\n",
      "|Aggressive Animal...|25492|\n",
      "|Cart Exchange Req...|22608|\n",
      "|Junk Vehicle On P...|21649|\n",
      "|     Pot Hole Repair|20827|\n",
      "+--------------------+-----+\n",
      "only showing top 10 rows\n",
      "\n"
     ]
    }
   ],
   "source": [
    "# What are the top 10 service request types in terms of number of requests?\n",
    "df.groupBy(\"service_request_type\").count().orderBy(\"count\", ascending=False).show(10)"
   ]
  },
  {
   "cell_type": "code",
   "execution_count": 55,
   "metadata": {},
   "outputs": [
    {
     "name": "stdout",
     "output_type": "stream",
     "text": [
      "+--------------------------------------+------------------+-------+\n",
      "|service_request_type                  |avg(num_days_late)|n_cases|\n",
      "+--------------------------------------+------------------+-------+\n",
      "|Zoning: Recycle Yard                  |210.89201994318182|132    |\n",
      "|Zoning: Junk Yards                    |200.20517608494276|262    |\n",
      "|Structure/Housing Maintenance         |190.20707698509807|51     |\n",
      "|Donation Container Enforcement        |171.09115313942615|122    |\n",
      "|Storage of Used Mattress              |163.96812829714287|7      |\n",
      "|Labeling for Used Mattress            |162.43032902285717|7      |\n",
      "|Record Keeping of Used Mattresses     |153.99724039428568|7      |\n",
      "|Signage Requied for Sale of Used Mattr|151.63868055333333|12     |\n",
      "|Traffic Signal Graffiti               |137.64583330000002|4      |\n",
      "|License Requied Used Mattress Sales   |128.79828704142858|7      |\n",
      "+--------------------------------------+------------------+-------+\n",
      "only showing top 10 rows\n",
      "\n"
     ]
    }
   ],
   "source": [
    "# What are the top 10 service request types in terms of average days late?\n",
    "(\n",
    "    df.where(\"case_late\")\n",
    "    .select(\n",
    "        col(\"num_days_late\"), col(\"service_request_type\")\n",
    "        )\n",
    "    .groupBy(\"service_request_type\")\n",
    "    .agg(mean(\"num_days_late\"), count(\"*\").alias(\"n_cases\"))\n",
    "    .orderBy(\"avg(num_days_late)\", ascending=False)\n",
    "    .show(10, truncate=False)\n",
    ")"
   ]
  },
  {
   "cell_type": "code",
   "execution_count": 56,
   "metadata": {},
   "outputs": [
    {
     "name": "stdout",
     "output_type": "stream",
     "text": [
      "+----------------------+------------------+\n",
      "|standardized_dept_name|avg(num_days_late)|\n",
      "+----------------------+------------------+\n",
      "|      Customer Service| 88.18248182589822|\n",
      "|  DSD/Code Enforcement|49.506339986350454|\n",
      "|  Animal Care Services|  23.4467296347382|\n",
      "|    Parks & Recreation|22.427807192724135|\n",
      "|  Trans & Cap Impro...|10.662950455078674|\n",
      "|           Solid Waste|7.1471727895574135|\n",
      "|          Metro Health| 6.494699602827871|\n",
      "+----------------------+------------------+\n",
      "\n",
      "+--------------------+------------------+\n",
      "|           dept_name|avg(num_days_late)|\n",
      "+--------------------+------------------+\n",
      "|                null|210.89201994318182|\n",
      "|    Customer Service| 88.18248182589822|\n",
      "|Development Services| 67.22248485687263|\n",
      "|Code Enforcement ...|48.085502375106884|\n",
      "|Animal Care Services|  23.4467296347382|\n",
      "|Parks and Recreation|22.427807192724135|\n",
      "|Trans & Cap Impro...|10.662950455078674|\n",
      "|Solid Waste Manag...|7.1471727895574135|\n",
      "|        Metro Health| 6.494699602827871|\n",
      "+--------------------+------------------+\n",
      "\n"
     ]
    }
   ],
   "source": [
    "# Does number of days late depend on department?\n",
    "(\n",
    "    df.where(\"case_late\")\n",
    "    .select(\n",
    "        col(\"num_days_late\"), col(\"standardized_dept_name\")\n",
    "    ).groupBy(\"standardized_dept_name\").avg().orderBy(\"avg(num_days_late)\", ascending=False).show()\n",
    ")\n",
    "\n",
    "(\n",
    "    df.where(\"case_late\")\n",
    "    .select(\n",
    "        col(\"num_days_late\"), col(\"dept_name\")\n",
    "    ).groupBy(\"dept_name\").avg().orderBy(\"avg(num_days_late)\", ascending=False).show()\n",
    ")"
   ]
  },
  {
   "cell_type": "code",
   "execution_count": 57,
   "metadata": {},
   "outputs": [
    {
     "name": "stdout",
     "output_type": "stream",
     "text": [
      "+----------------------+------------------+------------+\n",
      "|standardized_dept_name|avg(num_days_late)|n_cases_late|\n",
      "+----------------------+------------------+------------+\n",
      "|      Customer Service| 88.18248182589822|        2035|\n",
      "|  DSD/Code Enforcement|49.506339986350454|       26439|\n",
      "|  Animal Care Services|  23.4467296347382|       23751|\n",
      "|    Parks & Recreation|22.427807192724135|        3810|\n",
      "|  Trans & Cap Impro...|10.662950455078674|        5529|\n",
      "|           Solid Waste|7.1471727895574135|       33729|\n",
      "|          Metro Health| 6.494699602827871|         854|\n",
      "+----------------------+------------------+------------+\n",
      "\n",
      "+--------------------+------------------+------------+\n",
      "|           dept_name|avg(num_days_late)|n_cases_late|\n",
      "+--------------------+------------------+------------+\n",
      "|                null|210.89201994318182|         132|\n",
      "|    Customer Service| 88.18248182589822|        2035|\n",
      "|Development Services| 67.22248485687263|         840|\n",
      "|Code Enforcement ...|48.085502375106884|       25467|\n",
      "|Animal Care Services|  23.4467296347382|       23751|\n",
      "|Parks and Recreation|22.427807192724135|        3810|\n",
      "|Trans & Cap Impro...|10.662950455078674|        5529|\n",
      "|Solid Waste Manag...|7.1471727895574135|       33729|\n",
      "|        Metro Health| 6.494699602827871|         854|\n",
      "+--------------------+------------------+------------+\n",
      "\n"
     ]
    }
   ],
   "source": [
    "# testing black\n",
    "(df.where(\"case_late\").select(col(\"num_days_late\"), col(\"standardized_dept_name\")).groupBy(\"standardized_dept_name\").agg(mean(\"num_days_late\"), count(\"*\").alias(\"n_cases_late\")).orderBy(\"avg(num_days_late)\", ascending=False).show())\n",
    "\n",
    "(\n",
    "    df.where(\"case_late\")\n",
    "    .select(col(\"num_days_late\"), col(\"dept_name\"))\n",
    "    .groupBy(\"dept_name\")\n",
    "    .agg(mean(\"num_days_late\"), count(\"*\").alias(\"n_cases_late\"))\n",
    "    .orderBy(\"avg(num_days_late)\", ascending=False)\n",
    "    .show()\n",
    ")"
   ]
  },
  {
   "cell_type": "code",
   "execution_count": 58,
   "metadata": {
    "scrolled": false
   },
   "outputs": [
    {
     "name": "stdout",
     "output_type": "stream",
     "text": [
      "+----------------------+--------------------+------------------+\n",
      "|standardized_dept_name|service_request_type|avg(num_days_late)|\n",
      "+----------------------+--------------------+------------------+\n",
      "|  DSD/Code Enforcement|  Zoning: Junk Yards|175.95636210420943|\n",
      "|  DSD/Code Enforcement|Labeling for Used...|162.43032902285717|\n",
      "|  DSD/Code Enforcement|Record Keeping of...|153.99724039428568|\n",
      "|  DSD/Code Enforcement|Signage Requied f...|151.63868055333333|\n",
      "|  DSD/Code Enforcement|Storage of Used M...|142.11255641500003|\n",
      "|  DSD/Code Enforcement|Zoning: Recycle Yard|135.92851612479797|\n",
      "|  DSD/Code Enforcement|Donation Containe...|131.75610506358706|\n",
      "|  DSD/Code Enforcement|License Requied U...|128.79828704142858|\n",
      "|  Trans & Cap Impro...|Traffic Signal Gr...|101.79846062200002|\n",
      "|      Customer Service|           Complaint|  72.8705023031169|\n",
      "|  DSD/Code Enforcement|             Vendors| 66.54809898507798|\n",
      "|    Parks & Recreation|Reservation Assis...|       66.03116319|\n",
      "|  DSD/Code Enforcement|   No Address Posted| 59.87564073362592|\n",
      "|  DSD/Code Enforcement|         Curbstoning|59.808628977605274|\n",
      "|           Solid Waste|Contracted Servic...|    56.72045236025|\n",
      "|  Trans & Cap Impro...|Status: On-Going ...|37.570646702950064|\n",
      "|  DSD/Code Enforcement|Historical Buildi...|31.567148565454545|\n",
      "|  DSD/Code Enforcement|Used Mattress Ins...|30.168053900795922|\n",
      "|           Solid Waste| Service Information| 29.17735574905488|\n",
      "|    Parks & Recreation|Park Building Mai...|24.322320840895838|\n",
      "+----------------------+--------------------+------------------+\n",
      "only showing top 20 rows\n",
      "\n",
      "+--------------------+--------------------+------------------+\n",
      "|           dept_name|service_request_type|avg(num_days_late)|\n",
      "+--------------------+--------------------+------------------+\n",
      "|Code Enforcement ...|  Zoning: Junk Yards|175.95636210420943|\n",
      "|Code Enforcement ...|Labeling for Used...|162.43032902285717|\n",
      "|Code Enforcement ...|Record Keeping of...|153.99724039428568|\n",
      "|Code Enforcement ...|Signage Requied f...|151.63868055333333|\n",
      "|Code Enforcement ...|Storage of Used M...|142.11255641500003|\n",
      "|                null|Zoning: Recycle Yard|135.92851612479797|\n",
      "|Code Enforcement ...|Donation Containe...|131.75610506358706|\n",
      "|Code Enforcement ...|License Requied U...|128.79828704142858|\n",
      "|Trans & Cap Impro...|Traffic Signal Gr...|101.79846062200002|\n",
      "|    Customer Service|           Complaint|  72.8705023031169|\n",
      "|Code Enforcement ...|             Vendors| 66.54809898507798|\n",
      "|Parks and Recreation|Reservation Assis...|       66.03116319|\n",
      "|Code Enforcement ...|   No Address Posted| 59.87564073362592|\n",
      "|Code Enforcement ...|         Curbstoning|59.808628977605274|\n",
      "|Solid Waste Manag...|Contracted Servic...|    56.72045236025|\n",
      "|Trans & Cap Impro...|Status: On-Going ...|37.570646702950064|\n",
      "|Code Enforcement ...|Historical Buildi...|31.567148565454545|\n",
      "|Code Enforcement ...|Used Mattress Ins...|30.168053900795922|\n",
      "|Solid Waste Manag...| Service Information| 29.17735574905488|\n",
      "|Parks and Recreation|Park Building Mai...|24.322320840895838|\n",
      "+--------------------+--------------------+------------------+\n",
      "only showing top 20 rows\n",
      "\n"
     ]
    }
   ],
   "source": [
    "# How do number of days late depend on department and request type?\n",
    "df.select(\n",
    "        col(\"num_days_late\"), col(\"standardized_dept_name\"), col(\"service_request_type\")\n",
    ").groupBy([\"standardized_dept_name\", \"service_request_type\"]).avg().orderBy(\"avg(num_days_late)\", ascending=False).show()\n",
    "\n",
    "df.select(\n",
    "        col(\"num_days_late\"), col(\"dept_name\"), col(\"service_request_type\")\n",
    ").groupBy([\"dept_name\", \"service_request_type\"]).avg().orderBy(\"avg(num_days_late)\", ascending=False).show()"
   ]
  },
  {
   "cell_type": "markdown",
   "metadata": {},
   "source": [
    "---\n",
    "You might have noticed that the latest date in the dataset is fairly far off from the present day. To account for this, replace any occurances of the current time with the maximum date from the dataset."
   ]
  },
  {
   "cell_type": "markdown",
   "metadata": {},
   "source": [
    "- `.first()`: gives us the first row object\n",
    "- `.head()`: gives us a list of the first `n` row objects\n",
    "- `.collect()`: turnes *all* the rows into a list of row objects **be careful here**"
   ]
  },
  {
   "cell_type": "code",
   "execution_count": 59,
   "metadata": {},
   "outputs": [
    {
     "data": {
      "text/plain": [
       "pyspark.sql.types.Row"
      ]
     },
     "execution_count": 59,
     "metadata": {},
     "output_type": "execute_result"
    }
   ],
   "source": [
    "type(df.select(max(\"case_opened_date\")).first())"
   ]
  },
  {
   "cell_type": "code",
   "execution_count": 60,
   "metadata": {},
   "outputs": [
    {
     "data": {
      "text/plain": [
       "datetime.datetime"
      ]
     },
     "execution_count": 60,
     "metadata": {},
     "output_type": "execute_result"
    }
   ],
   "source": [
    "type(df.select(max(\"case_opened_date\")).first()[0])"
   ]
  },
  {
   "cell_type": "code",
   "execution_count": 61,
   "metadata": {},
   "outputs": [
    {
     "data": {
      "text/plain": [
       "datetime.datetime(2018, 8, 8, 10, 38)"
      ]
     },
     "execution_count": 61,
     "metadata": {},
     "output_type": "execute_result"
    }
   ],
   "source": [
    "max_date = df.select(max(\"case_opened_date\")).first()[0]\n",
    "max_date"
   ]
  },
  {
   "cell_type": "code",
   "execution_count": 62,
   "metadata": {},
   "outputs": [
    {
     "data": {
      "text/plain": [
       "'2018-08-08 10:38:00'"
      ]
     },
     "execution_count": 62,
     "metadata": {},
     "output_type": "execute_result"
    }
   ],
   "source": [
    "max_date = max_date.strftime(\"%Y-%m-%d %H:%M:%S\")\n",
    "max_date"
   ]
  },
  {
   "cell_type": "markdown",
   "metadata": {},
   "source": [
    "---\n",
    "## Explore\n",
    "Answer the questions below by using a combination of the techniques discussed in the lesson that you think is appropriate.\n",
    "\n",
    "- How many different cases are there, by department?\n",
    "- Does the percentage of cases that are late vary by department?\n",
    "- On average, how late are the late cases by department?\n",
    "- What is the service type that is the most late? Just for Parks & Rec?\n",
    "- For the DSD/Code Enforcement department, what are the most common service request types? Look at other departments too.\n",
    "- Does whether or not its a weekend matter for when a case is opened/closed?\n",
    "- On average, how many cases are opened a day for the Customer Service department?\n",
    "- Does the number of service requests for the solid waste department vary by day of the week?"
   ]
  },
  {
   "cell_type": "code",
   "execution_count": 63,
   "metadata": {},
   "outputs": [],
   "source": [
    "import numpy as np\n",
    "import pandas as pd\n",
    "\n",
    "%matplotlib inline\n",
    "import matplotlib.pyplot as plt\n",
    "import seaborn as sns\n",
    "\n",
    "import warnings\n",
    "warnings.filterwarnings(\"ignore\")"
   ]
  },
  {
   "cell_type": "code",
   "execution_count": 64,
   "metadata": {},
   "outputs": [
    {
     "name": "stdout",
     "output_type": "stream",
     "text": [
      "root\n",
      " |-- source_id: string (nullable = true)\n",
      " |-- dept_division: string (nullable = true)\n",
      " |-- case_id: integer (nullable = true)\n",
      " |-- case_opened_date: timestamp (nullable = true)\n",
      " |-- case_closed_date: timestamp (nullable = true)\n",
      " |-- case_due_date: timestamp (nullable = true)\n",
      " |-- case_late: boolean (nullable = true)\n",
      " |-- num_days_late: double (nullable = true)\n",
      " |-- case_closed: boolean (nullable = true)\n",
      " |-- service_request_type: string (nullable = true)\n",
      " |-- SLA_days: double (nullable = true)\n",
      " |-- case_status: string (nullable = true)\n",
      " |-- request_address: string (nullable = true)\n",
      " |-- council_district: string (nullable = false)\n",
      " |-- zipcode: string (nullable = true)\n",
      " |-- case_lifetime: integer (nullable = true)\n",
      " |-- dept_name: string (nullable = true)\n",
      " |-- standardized_dept_name: string (nullable = true)\n",
      " |-- dept_subject_to_SLA: boolean (nullable = true)\n",
      " |-- source_username: string (nullable = true)\n",
      " |-- case_closed_year: integer (nullable = true)\n",
      " |-- num_hours_late: double (nullable = true)\n",
      "\n"
     ]
    }
   ],
   "source": [
    "df.printSchema()"
   ]
  },
  {
   "cell_type": "code",
   "execution_count": 65,
   "metadata": {},
   "outputs": [
    {
     "name": "stdout",
     "output_type": "stream",
     "text": [
      "+------------------------+-------------+\n",
      "|standardized_dept_name  |count_case_id|\n",
      "+------------------------+-------------+\n",
      "|DSD/Code Enforcement    |323579       |\n",
      "|Solid Waste             |286287       |\n",
      "|Animal Care Services    |119362       |\n",
      "|Trans & Cap Improvements|97841        |\n",
      "|Parks & Recreation      |19964        |\n",
      "|Metro Health            |5313         |\n",
      "|Customer Service        |2889         |\n",
      "|City Council            |34           |\n",
      "+------------------------+-------------+\n",
      "\n"
     ]
    },
    {
     "data": {
      "image/png": "[encoded data removed]",
      "text/plain": [
       "<Figure size 1152x576 with 1 Axes>"
      ]
     },
     "metadata": {
      "needs_background": "light"
     },
     "output_type": "display_data"
    }
   ],
   "source": [
    "# How many different cases are there, by department?\n",
    "df.groupby(\"standardized_dept_name\").agg(count(\"case_id\").alias(\"count_case_id\")).orderBy(\n",
    "    \"count_case_id\", ascending=False\n",
    ").show(truncate=False)\n",
    "\n",
    "\n",
    "(\n",
    "    df.groupby(\"standardized_dept_name\")\n",
    "    .agg(count(\"case_id\").alias(\"count_case_id\"))\n",
    "    .toPandas()\n",
    "    .set_index(\"standardized_dept_name\")\n",
    "    .count_case_id.sort_values(ascending=True)\n",
    "    .plot.barh(width=1, edgecolor=\"black\", figsize=(16, 8),)\n",
    ")\n",
    "\n",
    "plt.show()"
   ]
  },
  {
   "cell_type": "code",
   "execution_count": 66,
   "metadata": {},
   "outputs": [
    {
     "name": "stdout",
     "output_type": "stream",
     "text": [
      "+------------------------+------------+\n",
      "|standardized_dept_name  |percent_late|\n",
      "+------------------------+------------+\n",
      "|Customer Service        |70.0        |\n",
      "|Animal Care Services    |20.0        |\n",
      "|Parks & Recreation      |19.0        |\n",
      "|Metro Health            |16.0        |\n",
      "|Solid Waste             |12.0        |\n",
      "|DSD/Code Enforcement    |8.0         |\n",
      "|Trans & Cap Improvements|6.0         |\n",
      "|City Council            |0.0         |\n",
      "+------------------------+------------+\n",
      "\n"
     ]
    },
    {
     "data": {
      "image/png": "[encoded data removed]",
      "text/plain": [
       "<Figure size 1152x576 with 1 Axes>"
      ]
     },
     "metadata": {
      "needs_background": "light"
     },
     "output_type": "display_data"
    }
   ],
   "source": [
    "# Does the percentage of cases that are late vary by department?\n",
    "(\n",
    "    df.select(col(\"case_late\"), col(\"standardized_dept_name\"))\n",
    "    .groupBy(\"standardized_dept_name\")\n",
    "    .agg(\n",
    "        round(mean(when(col(\"case_late\") == \"true\", 1).otherwise(0) * 100)).alias(\n",
    "            \"percent_late\"\n",
    "        )\n",
    "    )\n",
    "    .orderBy(\"percent_late\", ascending=False)\n",
    "    .show(truncate=False)\n",
    ")\n",
    "\n",
    "\n",
    "(\n",
    "    df.select(col(\"case_late\"), col(\"standardized_dept_name\"))\n",
    "    .groupBy(\"standardized_dept_name\")\n",
    "    .agg(\n",
    "        round(mean(when(col(\"case_late\") == \"true\", 1).otherwise(0) * 100)).alias(\n",
    "            \"percent_late\"\n",
    "        )\n",
    "    )\n",
    "    .toPandas()\n",
    "    .set_index(\"standardized_dept_name\")\n",
    "    .percent_late.sort_values(ascending=True)\n",
    "    .plot.barh(width=1, edgecolor=\"black\", figsize=(16, 8))\n",
    ")\n",
    "\n",
    "\n",
    "plt.show()"
   ]
  },
  {
   "cell_type": "code",
   "execution_count": 67,
   "metadata": {},
   "outputs": [
    {
     "name": "stdout",
     "output_type": "stream",
     "text": [
      "+------------------------+------------------+\n",
      "|standardized_dept_name  |avg_num_days_late |\n",
      "+------------------------+------------------+\n",
      "|Customer Service        |88.18248182589822 |\n",
      "|DSD/Code Enforcement    |49.506339986350454|\n",
      "|Animal Care Services    |23.4467296347382  |\n",
      "|Parks & Recreation      |22.427807192724135|\n",
      "|Trans & Cap Improvements|10.662950455078674|\n",
      "|Solid Waste             |7.1471727895574135|\n",
      "|Metro Health            |6.494699602827871 |\n",
      "+------------------------+------------------+\n",
      "\n"
     ]
    },
    {
     "data": {
      "image/png": "[encoded data removed]",
      "text/plain": [
       "<Figure size 1152x576 with 1 Axes>"
      ]
     },
     "metadata": {
      "needs_background": "light"
     },
     "output_type": "display_data"
    }
   ],
   "source": [
    "# On average, how late are the late cases by department?\n",
    "(\n",
    "    df.where(\"case_late\")\n",
    "    .select(col(\"num_days_late\"), col(\"standardized_dept_name\"))\n",
    "    .groupBy(\"standardized_dept_name\")\n",
    "    .agg(mean(\"num_days_late\").alias(\"avg_num_days_late\"))\n",
    "    .orderBy(\"avg_num_days_late\", ascending=False)\n",
    "    .show(truncate=False)\n",
    ")\n",
    "\n",
    "(\n",
    "    df.where(\"case_late\")\n",
    "    .select(col(\"num_days_late\"), col(\"standardized_dept_name\"))\n",
    "    .groupBy(\"standardized_dept_name\")\n",
    "    .agg(mean(\"num_days_late\").alias(\"avg_num_days_late\"))\n",
    "    .toPandas()\n",
    "    .set_index(\"standardized_dept_name\")\n",
    "    .avg_num_days_late.sort_values(ascending=True)\n",
    "    .plot.barh(width=1, edgecolor=\"black\", figsize=(16, 8))\n",
    ")\n",
    "\n",
    "plt.show()"
   ]
  },
  {
   "cell_type": "code",
   "execution_count": 68,
   "metadata": {},
   "outputs": [
    {
     "name": "stdout",
     "output_type": "stream",
     "text": [
      "+------------------------------+------------------+\n",
      "|service_request_type          |avg_num_days_late |\n",
      "+------------------------------+------------------+\n",
      "|Zoning: Recycle Yard          |210.89201994318182|\n",
      "|Zoning: Junk Yards            |200.20517608494276|\n",
      "|Structure/Housing Maintenance |190.20707698509807|\n",
      "|Donation Container Enforcement|171.09115313942615|\n",
      "|Storage of Used Mattress      |163.96812829714287|\n",
      "+------------------------------+------------------+\n",
      "only showing top 5 rows\n",
      "\n"
     ]
    },
    {
     "data": {
      "image/png": "[encoded data removed]",
      "text/plain": [
       "<Figure size 1152x576 with 1 Axes>"
      ]
     },
     "metadata": {
      "needs_background": "light"
     },
     "output_type": "display_data"
    }
   ],
   "source": [
    "# What is the service type that is the most late? Just for Parks & Rec?\n",
    "(\n",
    "    df.where(\"case_late\")\n",
    "    .select(col(\"num_days_late\"), col(\"service_request_type\"))\n",
    "    .groupBy(\"service_request_type\")\n",
    "    .agg(mean(\"num_days_late\").alias(\"avg_num_days_late\"))\n",
    "    .orderBy(\"avg_num_days_late\", ascending=False)\n",
    "    .show(5, truncate=False)\n",
    ")\n",
    "\n",
    "(\n",
    "    df.where(\"case_late\")\n",
    "    .select(col(\"num_days_late\"), col(\"service_request_type\"))\n",
    "    .groupBy(\"service_request_type\")\n",
    "    .agg(mean(\"num_days_late\").alias(\"avg_num_days_late\"))\n",
    "    .toPandas()\n",
    "    .set_index(\"service_request_type\")\n",
    "    .avg_num_days_late.sort_values(ascending=True)\n",
    "    .tail(5)\n",
    "    .plot.barh(width=1, edgecolor=\"black\", figsize=(16, 8))\n",
    ")\n",
    "\n",
    "plt.show()"
   ]
  },
  {
   "cell_type": "code",
   "execution_count": 69,
   "metadata": {},
   "outputs": [
    {
     "name": "stdout",
     "output_type": "stream",
     "text": [
      "+-------------------------------------+------------------+\n",
      "|service_request_type                 |avg_num_days_late |\n",
      "+-------------------------------------+------------------+\n",
      "|Amenity Park Improvement             |76.60603677123078 |\n",
      "|Major Park Improvement Install       |75.79450367282354 |\n",
      "|Reservation Assistance               |66.03116319       |\n",
      "|Park Building Maint Invest           |59.367469802695666|\n",
      "|Sportfield Lighting                  |52.034858419575656|\n",
      "|Electrical                           |42.951971658345116|\n",
      "|Tree Removal                         |40.28404224560715 |\n",
      "|Landscape Maintenance                |38.86797941326316 |\n",
      "|Heavy Equipment                      |38.56625730831579 |\n",
      "|Miscellaneous Park Equipment         |33.62472491253488 |\n",
      "|Tree Trimming/Maintenance            |30.563700002936045|\n",
      "|General Building Maintenance         |28.192905974561906|\n",
      "|Masonry                              |27.989420392890622|\n",
      "|Painting                             |25.404551756282608|\n",
      "|Sign Maintenance                     |22.281778663588234|\n",
      "|Fence/Gate Repair                    |20.366796601056603|\n",
      "|Small Equipment Repair               |19.644149305      |\n",
      "|Plumbing/Drinking Fountain/Sprinklers|19.61590306943038 |\n",
      "|Pools                                |19.489430630709677|\n",
      "|Plumbing                             |18.621826175298462|\n",
      "+-------------------------------------+------------------+\n",
      "only showing top 20 rows\n",
      "\n"
     ]
    },
    {
     "data": {
      "image/png": "[encoded data removed]",
      "text/plain": [
       "<Figure size 1152x576 with 1 Axes>"
      ]
     },
     "metadata": {
      "needs_background": "light"
     },
     "output_type": "display_data"
    }
   ],
   "source": [
    "# Just for Parks & Rec?\n",
    "(\n",
    "    df.filter(df.dept_name == \"Parks and Recreation\")\n",
    "    .where(\"case_late\")\n",
    "    .select(col(\"num_days_late\"), col(\"service_request_type\"))\n",
    "    .groupBy(\"service_request_type\")\n",
    "    .agg(mean(\"num_days_late\").alias(\"avg_num_days_late\"))\n",
    "    .orderBy(\"avg_num_days_late\", ascending=False)\n",
    "    .show(truncate=False)\n",
    ")\n",
    "\n",
    "(\n",
    "    df.filter(df.dept_name == \"Parks and Recreation\")\n",
    "    .where(\"case_late\")\n",
    "    .select(col(\"num_days_late\"), col(\"service_request_type\"))\n",
    "    .groupBy(\"service_request_type\")\n",
    "    .agg(mean(\"num_days_late\").alias(\"avg_num_days_late\"))\n",
    "    .toPandas()\n",
    "    .set_index(\"service_request_type\")\n",
    "    .avg_num_days_late.sort_values(ascending=True)\n",
    "    .plot.barh(width=1, edgecolor=\"black\", figsize=(16, 8))\n",
    ")\n",
    "\n",
    "plt.show()"
   ]
  },
  {
   "cell_type": "code",
   "execution_count": 70,
   "metadata": {},
   "outputs": [
    {
     "name": "stdout",
     "output_type": "stream",
     "text": [
      "+--------------------+---------------------------------+--------------+\n",
      "|dept_name           |service_request_type             |count_of_cases|\n",
      "+--------------------+---------------------------------+--------------+\n",
      "|Development Services|Street Light Existing Res Sub Div|1342          |\n",
      "|Development Services|Street Light New Development     |55            |\n",
      "+--------------------+---------------------------------+--------------+\n",
      "\n",
      "+-------------------------+--------------------------------------+--------------+\n",
      "|dept_name                |service_request_type                  |count_of_cases|\n",
      "+-------------------------+--------------------------------------+--------------+\n",
      "|Code Enforcement Services|Overgrown Yard/Trash                  |66403         |\n",
      "|Code Enforcement Services|Bandit Signs                          |32968         |\n",
      "|Code Enforcement Services|Front Or Side Yard Parking            |28920         |\n",
      "|Code Enforcement Services|Junk Vehicle On Private Property      |21649         |\n",
      "|Code Enforcement Services|Alley-Way Maintenance                 |20293         |\n",
      "|Code Enforcement Services|Right Of Way/Sidewalk Obstruction     |17836         |\n",
      "|Code Enforcement Services|Vacant Lot/Overgrown/Trash            |9497          |\n",
      "|Code Enforcement Services|Minimum Housing-Owner Occupied        |8617          |\n",
      "|Code Enforcement Services|Graffiti: Private Property (Corridors)|8525          |\n",
      "|Code Enforcement Services|Minimum Housing-Tenant Occupied       |8104          |\n",
      "|Code Enforcement Services|Dang. Premises/CL/SEC                 |8004          |\n",
      "|Code Enforcement Services|\"Vacant Lot-Private (12\"\")\"           |7875          |\n",
      "|Code Enforcement Services|Brush Violations                      |7530          |\n",
      "|Code Enforcement Services|Permits Building                      |6950          |\n",
      "|Code Enforcement Services|Vacant House Overgrown Yard           |6278          |\n",
      "|Code Enforcement Services|Graffiti: Building                    |4572          |\n",
      "|Code Enforcement Services|Low Hanging Limbs on Streets/Sidewalk |4107          |\n",
      "|Code Enforcement Services|Graffiti Public Property              |4104          |\n",
      "|Code Enforcement Services|CPS Energy Wood Poles                 |3501          |\n",
      "|Code Enforcement Services|Zoning Business in Resident Area      |2773          |\n",
      "+-------------------------+--------------------------------------+--------------+\n",
      "only showing top 20 rows\n",
      "\n"
     ]
    },
    {
     "data": {
      "image/png": "[encoded data removed]",
      "text/plain": [
       "<Figure size 1152x576 with 1 Axes>"
      ]
     },
     "metadata": {
      "needs_background": "light"
     },
     "output_type": "display_data"
    },
    {
     "data": {
      "image/png": "[encoded data removed]",
      "text/plain": [
       "<Figure size 1152x576 with 1 Axes>"
      ]
     },
     "metadata": {
      "needs_background": "light"
     },
     "output_type": "display_data"
    }
   ],
   "source": [
    "# For the DSD/Code Enforcement department, what are the most common service request types? \n",
    "# Look at other departments too.\n",
    "(\n",
    "    df.filter((df.dept_name == \"Development Services\"))\n",
    "    .select(col(\"dept_name\"), col(\"service_request_type\"), col(\"case_id\"))\n",
    "    .groupBy([\"dept_name\", \"service_request_type\"])\n",
    "    .agg(count(\"case_id\").alias(\"count_of_cases\"))\n",
    "    .orderBy(\"count_of_cases\", ascending=False)\n",
    "    .show(5, truncate=False)\n",
    ")\n",
    "\n",
    "(\n",
    "    df.filter((df.dept_name == \"Code Enforcement Services\"))\n",
    "    .select(col(\"dept_name\"), col(\"service_request_type\"), col(\"case_id\"))\n",
    "    .groupBy([\"dept_name\", \"service_request_type\"])\n",
    "    .agg(count(\"case_id\").alias(\"count_of_cases\"))\n",
    "    .orderBy(\"count_of_cases\", ascending=False)\n",
    "    .show(truncate=False)\n",
    ")\n",
    "\n",
    "(\n",
    "    df.filter((df.dept_name == \"Development Services\"))\n",
    "    .select(col(\"dept_name\"), col(\"service_request_type\"), col(\"case_id\"))\n",
    "    .groupBy([\"dept_name\", \"service_request_type\"])\n",
    "    .agg(count(\"case_id\").alias(\"count_of_cases\"))\n",
    "    .toPandas()\n",
    "    .set_index(\"service_request_type\")\n",
    "    .count_of_cases.sort_values(ascending=True)\n",
    "    .tail()\n",
    "    .plot.barh(width=1, edgecolor=\"black\", figsize=(16, 8))\n",
    ")\n",
    "\n",
    "plt.title(\"Development Services\")\n",
    "plt.show()\n",
    "\n",
    "(\n",
    "    df.filter((df.dept_name == \"Code Enforcement Services\"))\n",
    "    .select(col(\"dept_name\"), col(\"service_request_type\"), col(\"case_id\"))\n",
    "    .groupBy([\"dept_name\", \"service_request_type\"])\n",
    "    .agg(count(\"case_id\").alias(\"count_of_cases\"))\n",
    "    .toPandas()\n",
    "    .set_index(\"service_request_type\")\n",
    "    .count_of_cases.sort_values(ascending=True)\n",
    "    .tail()\n",
    "    .plot.barh(width=1, edgecolor=\"black\", figsize=(16, 8))\n",
    ")\n",
    "\n",
    "plt.title(\"Code Enforcement Services\")\n",
    "plt.show()"
   ]
  }
 ],
 "metadata": {
  "kernelspec": {
   "display_name": "Python 3",
   "language": "python",
   "name": "python3"
  },
  "language_info": {
   "codemirror_mode": {
    "name": "ipython",
    "version": 3
   },
   "file_extension": ".py",
   "mimetype": "text/x-python",
   "name": "python",
   "nbconvert_exporter": "python",
   "pygments_lexer": "ipython3",
   "version": "3.7.4"
  }
 },
 "nbformat": 4,
 "nbformat_minor": 2
}
