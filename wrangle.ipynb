{
 "cells": [
  {
   "cell_type": "code",
   "execution_count": 1,
   "metadata": {},
   "outputs": [],
   "source": [
    "import pyspark\n",
    "from pyspark.sql.functions import *"
   ]
  },
  {
   "cell_type": "code",
   "execution_count": 2,
   "metadata": {},
   "outputs": [
    {
     "data": {
      "text/html": [
       "\n",
       "            <div>\n",
       "                <p><b>SparkSession - in-memory</b></p>\n",
       "                \n",
       "        <div>\n",
       "            <p><b>SparkContext</b></p>\n",
       "\n",
       "            <p><a href=\"http://192.168.1.4:4040\">Spark UI</a></p>\n",
       "\n",
       "            <dl>\n",
       "              <dt>Version</dt>\n",
       "                <dd><code>v2.4.5</code></dd>\n",
       "              <dt>Master</dt>\n",
       "                <dd><code>local[*]</code></dd>\n",
       "              <dt>AppName</dt>\n",
       "                <dd><code>pyspark-shell</code></dd>\n",
       "            </dl>\n",
       "        </div>\n",
       "        \n",
       "            </div>\n",
       "        "
      ],
      "text/plain": [
       "<pyspark.sql.session.SparkSession at 0x7f82e52e48d0>"
      ]
     },
     "execution_count": 2,
     "metadata": {},
     "output_type": "execute_result"
    }
   ],
   "source": [
    "spark = pyspark.sql.SparkSession.builder.getOrCreate()\n",
    "spark"
   ]
  },
  {
   "cell_type": "markdown",
   "metadata": {},
   "source": [
    "# Exercises\n",
    "## Data Acquisition\n",
    "\n",
    "This exercises uses the `case.csv`, `dept.csv`, and `source.csv` files from the san antonio 311 call dataset.\n",
    "\n",
    "1. Read the case, department, and source data into their own spark dataframes.\n",
    "2. Let's see how writing to the local disk works in spark:\n",
    "\n",
    "    - Write the code necessary to store the source data in both csv and json format, store these as `sources_csv` and `sources_json`\n",
    "    - Inspect your folder structure. What do you notice?\n",
    "3. Inspect the data in your dataframes. Are the data types appropriate? Write the code necessary to cast the values to the appropriate types."
   ]
  },
  {
   "cell_type": "code",
   "execution_count": 3,
   "metadata": {},
   "outputs": [],
   "source": [
    "case = spark.read.csv(\"data/case.csv\", header=True, inferSchema=True)"
   ]
  },
  {
   "cell_type": "code",
   "execution_count": 4,
   "metadata": {},
   "outputs": [
    {
     "name": "stdout",
     "output_type": "stream",
     "text": [
      "-RECORD 0------------------------------------\n",
      " case_id              | 1014127332           \n",
      " case_opened_date     | 1/1/18 0:42          \n",
      " case_closed_date     | 1/1/18 12:29         \n",
      " SLA_due_date         | 9/26/20 0:42         \n",
      " case_late            | NO                   \n",
      " num_days_late        | -998.5087616000001   \n",
      " case_closed          | YES                  \n",
      " dept_division        | Field Operations     \n",
      " service_request_type | Stray Animal         \n",
      " SLA_days             | 999.0                \n",
      " case_status          | Closed               \n",
      " source_id            | svcCRMLS             \n",
      " request_address      | 2315  EL PASO ST,... \n",
      " council_district     | 5                    \n",
      "-RECORD 1------------------------------------\n",
      " case_id              | 1014127333           \n",
      " case_opened_date     | 1/1/18 0:46          \n",
      " case_closed_date     | 1/3/18 8:11          \n",
      " SLA_due_date         | 1/5/18 8:30          \n",
      " case_late            | NO                   \n",
      " num_days_late        | -2.0126041669999997  \n",
      " case_closed          | YES                  \n",
      " dept_division        | Storm Water          \n",
      " service_request_type | Removal Of Obstru... \n",
      " SLA_days             | 4.322222222          \n",
      " case_status          | Closed               \n",
      " source_id            | svcCRMSS             \n",
      " request_address      | 2215  GOLIAD RD, ... \n",
      " council_district     | 3                    \n",
      "-RECORD 2------------------------------------\n",
      " case_id              | 1014127334           \n",
      " case_opened_date     | 1/1/18 0:48          \n",
      " case_closed_date     | 1/2/18 7:57          \n",
      " SLA_due_date         | 1/5/18 8:30          \n",
      " case_late            | NO                   \n",
      " num_days_late        | -3.022337963         \n",
      " case_closed          | YES                  \n",
      " dept_division        | Storm Water          \n",
      " service_request_type | Removal Of Obstru... \n",
      " SLA_days             | 4.320729167          \n",
      " case_status          | Closed               \n",
      " source_id            | svcCRMSS             \n",
      " request_address      | 102  PALFREY ST W... \n",
      " council_district     | 3                    \n",
      "only showing top 3 rows\n",
      "\n"
     ]
    }
   ],
   "source": [
    "case.show(3, vertical=True)"
   ]
  },
  {
   "cell_type": "code",
   "execution_count": 5,
   "metadata": {},
   "outputs": [],
   "source": [
    "dept = spark.read.csv(\"data/dept.csv\", header=True, inferSchema=True)"
   ]
  },
  {
   "cell_type": "code",
   "execution_count": 6,
   "metadata": {},
   "outputs": [
    {
     "name": "stdout",
     "output_type": "stream",
     "text": [
      "-RECORD 0--------------------------------------\n",
      " dept_division          | 311 Call Center      \n",
      " dept_name              | Customer Service     \n",
      " standardized_dept_name | Customer Service     \n",
      " dept_subject_to_SLA    | YES                  \n",
      "-RECORD 1--------------------------------------\n",
      " dept_division          | Brush                \n",
      " dept_name              | Solid Waste Manag... \n",
      " standardized_dept_name | Solid Waste          \n",
      " dept_subject_to_SLA    | YES                  \n",
      "-RECORD 2--------------------------------------\n",
      " dept_division          | Clean and Green      \n",
      " dept_name              | Parks and Recreation \n",
      " standardized_dept_name | Parks & Recreation   \n",
      " dept_subject_to_SLA    | YES                  \n",
      "only showing top 3 rows\n",
      "\n"
     ]
    }
   ],
   "source": [
    "dept.show(3, vertical=True)"
   ]
  },
  {
   "cell_type": "code",
   "execution_count": 7,
   "metadata": {},
   "outputs": [],
   "source": [
    "source = spark.read.csv(\"data/source.csv\", header=True, inferSchema=True)"
   ]
  },
  {
   "cell_type": "code",
   "execution_count": 8,
   "metadata": {},
   "outputs": [
    {
     "name": "stdout",
     "output_type": "stream",
     "text": [
      "-RECORD 0---------------------------\n",
      " source_id       | 100137           \n",
      " source_username | Merlene Blodgett \n",
      "-RECORD 1---------------------------\n",
      " source_id       | 103582           \n",
      " source_username | Carmen Cura      \n",
      "-RECORD 2---------------------------\n",
      " source_id       | 106463           \n",
      " source_username | Richard Sanchez  \n",
      "only showing top 3 rows\n",
      "\n"
     ]
    }
   ],
   "source": [
    "source.show(3, vertical=True)"
   ]
  },
  {
   "cell_type": "code",
   "execution_count": 9,
   "metadata": {},
   "outputs": [],
   "source": [
    "# Write the code necessary to store the source data in both csv and json format, \n",
    "# store these as sources_csv and sources_json\n",
    "source.write.csv(\"data/sources_csv\", mode=\"overwrite\")"
   ]
  },
  {
   "cell_type": "code",
   "execution_count": 10,
   "metadata": {},
   "outputs": [],
   "source": [
    "source.write.json(\"data/sources_json\", mode=\"overwrite\")"
   ]
  },
  {
   "cell_type": "code",
   "execution_count": 11,
   "metadata": {},
   "outputs": [
    {
     "name": "stdout",
     "output_type": "stream",
     "text": [
      "root\n",
      " |-- case_id: integer (nullable = true)\n",
      " |-- case_opened_date: string (nullable = true)\n",
      " |-- case_closed_date: string (nullable = true)\n",
      " |-- SLA_due_date: string (nullable = true)\n",
      " |-- case_late: string (nullable = true)\n",
      " |-- num_days_late: double (nullable = true)\n",
      " |-- case_closed: string (nullable = true)\n",
      " |-- dept_division: string (nullable = true)\n",
      " |-- service_request_type: string (nullable = true)\n",
      " |-- SLA_days: double (nullable = true)\n",
      " |-- case_status: string (nullable = true)\n",
      " |-- source_id: string (nullable = true)\n",
      " |-- request_address: string (nullable = true)\n",
      " |-- council_district: integer (nullable = true)\n",
      "\n"
     ]
    }
   ],
   "source": [
    "case.printSchema()"
   ]
  },
  {
   "cell_type": "code",
   "execution_count": 12,
   "metadata": {},
   "outputs": [
    {
     "name": "stdout",
     "output_type": "stream",
     "text": [
      "root\n",
      " |-- case_id: integer (nullable = true)\n",
      " |-- case_opened_date: string (nullable = true)\n",
      " |-- case_closed_date: string (nullable = true)\n",
      " |-- case_due_date: string (nullable = true)\n",
      " |-- case_late: string (nullable = true)\n",
      " |-- num_days_late: double (nullable = true)\n",
      " |-- case_closed: string (nullable = true)\n",
      " |-- dept_division: string (nullable = true)\n",
      " |-- service_request_type: string (nullable = true)\n",
      " |-- SLA_days: double (nullable = true)\n",
      " |-- case_status: string (nullable = true)\n",
      " |-- source_id: string (nullable = true)\n",
      " |-- request_address: string (nullable = true)\n",
      " |-- council_district: integer (nullable = true)\n",
      "\n"
     ]
    }
   ],
   "source": [
    "case = case.withColumnRenamed(\"SLA_due_date\", \"case_due_date\")\n",
    "case.printSchema()"
   ]
  },
  {
   "cell_type": "code",
   "execution_count": 13,
   "metadata": {},
   "outputs": [],
   "source": [
    "# change data types for date columns\n",
    "case = (\n",
    "    case.withColumn(\"case_opened_date\", to_timestamp(col(\"case_opened_date\"), \"M/d/yy H:mm\"))\n",
    "    .withColumn(\"case_closed_date\", to_timestamp(col(\"case_closed_date\"), \"M/d/yy H:mm\"))\n",
    "    .withColumn(\"case_due_date\", to_timestamp(col(\"case_due_date\"), \"M/d/yy H:mm\"))\n",
    ")"
   ]
  },
  {
   "cell_type": "code",
   "execution_count": 14,
   "metadata": {},
   "outputs": [
    {
     "name": "stdout",
     "output_type": "stream",
     "text": [
      "root\n",
      " |-- case_id: integer (nullable = true)\n",
      " |-- case_opened_date: timestamp (nullable = true)\n",
      " |-- case_closed_date: timestamp (nullable = true)\n",
      " |-- case_due_date: timestamp (nullable = true)\n",
      " |-- case_late: string (nullable = true)\n",
      " |-- num_days_late: double (nullable = true)\n",
      " |-- case_closed: string (nullable = true)\n",
      " |-- dept_division: string (nullable = true)\n",
      " |-- service_request_type: string (nullable = true)\n",
      " |-- SLA_days: double (nullable = true)\n",
      " |-- case_status: string (nullable = true)\n",
      " |-- source_id: string (nullable = true)\n",
      " |-- request_address: string (nullable = true)\n",
      " |-- council_district: integer (nullable = true)\n",
      "\n"
     ]
    }
   ],
   "source": [
    "case.printSchema()"
   ]
  },
  {
   "cell_type": "code",
   "execution_count": 15,
   "metadata": {},
   "outputs": [
    {
     "name": "stdout",
     "output_type": "stream",
     "text": [
      "-RECORD 0------------------------------------\n",
      " case_id              | 1014127332           \n",
      " case_opened_date     | 2018-01-01 00:42:00  \n",
      " case_closed_date     | 2018-01-01 12:29:00  \n",
      " case_due_date        | 2020-09-26 00:42:00  \n",
      " case_late            | NO                   \n",
      " num_days_late        | -998.5087616000001   \n",
      " case_closed          | YES                  \n",
      " dept_division        | Field Operations     \n",
      " service_request_type | Stray Animal         \n",
      " SLA_days             | 999.0                \n",
      " case_status          | Closed               \n",
      " source_id            | svcCRMLS             \n",
      " request_address      | 2315  EL PASO ST,... \n",
      " council_district     | 5                    \n",
      "-RECORD 1------------------------------------\n",
      " case_id              | 1014127333           \n",
      " case_opened_date     | 2018-01-01 00:46:00  \n",
      " case_closed_date     | 2018-01-03 08:11:00  \n",
      " case_due_date        | 2018-01-05 08:30:00  \n",
      " case_late            | NO                   \n",
      " num_days_late        | -2.0126041669999997  \n",
      " case_closed          | YES                  \n",
      " dept_division        | Storm Water          \n",
      " service_request_type | Removal Of Obstru... \n",
      " SLA_days             | 4.322222222          \n",
      " case_status          | Closed               \n",
      " source_id            | svcCRMSS             \n",
      " request_address      | 2215  GOLIAD RD, ... \n",
      " council_district     | 3                    \n",
      "only showing top 2 rows\n",
      "\n"
     ]
    }
   ],
   "source": [
    "case.show(2, vertical=True)"
   ]
  },
  {
   "cell_type": "code",
   "execution_count": 16,
   "metadata": {},
   "outputs": [],
   "source": [
    "# .trim == .strip in base python\n",
    "# removes leading and trailing whitespace\n",
    "case = case.withColumn(\"request_address\", lower(trim(col(\"request_address\"))))"
   ]
  },
  {
   "cell_type": "code",
   "execution_count": 17,
   "metadata": {},
   "outputs": [],
   "source": [
    "# create zipcode column\n",
    "case = case.withColumn(\"zipcode\", regexp_extract(col(\"request_address\"), r\"\\d+$\", 0))"
   ]
  },
  {
   "cell_type": "code",
   "execution_count": 18,
   "metadata": {},
   "outputs": [
    {
     "name": "stdout",
     "output_type": "stream",
     "text": [
      "root\n",
      " |-- case_id: integer (nullable = true)\n",
      " |-- case_opened_date: timestamp (nullable = true)\n",
      " |-- case_closed_date: timestamp (nullable = true)\n",
      " |-- case_due_date: timestamp (nullable = true)\n",
      " |-- case_late: string (nullable = true)\n",
      " |-- num_days_late: double (nullable = true)\n",
      " |-- case_closed: string (nullable = true)\n",
      " |-- dept_division: string (nullable = true)\n",
      " |-- service_request_type: string (nullable = true)\n",
      " |-- SLA_days: double (nullable = true)\n",
      " |-- case_status: string (nullable = true)\n",
      " |-- source_id: string (nullable = true)\n",
      " |-- request_address: string (nullable = true)\n",
      " |-- council_district: integer (nullable = true)\n",
      " |-- zipcode: string (nullable = true)\n",
      "\n"
     ]
    }
   ],
   "source": [
    "case.printSchema()"
   ]
  },
  {
   "cell_type": "code",
   "execution_count": 19,
   "metadata": {},
   "outputs": [],
   "source": [
    "case = (\n",
    "    case.withColumn('case_late', col('case_late') == 'YES')\n",
    "    .withColumn('case_closed', col('case_closed') == 'YES')\n",
    ")"
   ]
  },
  {
   "cell_type": "code",
   "execution_count": 20,
   "metadata": {},
   "outputs": [],
   "source": [
    "case = (\n",
    "    case.withColumn(\"case_age\", datediff(current_timestamp(), \"case_opened_date\"))\n",
    "    .withColumn(\"days_to_closed\", datediff(\"case_closed_date\", \"case_opened_date\"))\n",
    "    .withColumn(\"case_lifetime\", when(col(\"case_closed\"), col(\"days_to_closed\")).otherwise(col(\"case_age\")))\n",
    "    .drop(\"case_age\", \"days_to_closed\")\n",
    ")"
   ]
  },
  {
   "cell_type": "code",
   "execution_count": 21,
   "metadata": {},
   "outputs": [
    {
     "name": "stdout",
     "output_type": "stream",
     "text": [
      "root\n",
      " |-- case_id: integer (nullable = true)\n",
      " |-- case_opened_date: timestamp (nullable = true)\n",
      " |-- case_closed_date: timestamp (nullable = true)\n",
      " |-- case_due_date: timestamp (nullable = true)\n",
      " |-- case_late: boolean (nullable = true)\n",
      " |-- num_days_late: double (nullable = true)\n",
      " |-- case_closed: boolean (nullable = true)\n",
      " |-- dept_division: string (nullable = true)\n",
      " |-- service_request_type: string (nullable = true)\n",
      " |-- SLA_days: double (nullable = true)\n",
      " |-- case_status: string (nullable = true)\n",
      " |-- source_id: string (nullable = true)\n",
      " |-- request_address: string (nullable = true)\n",
      " |-- council_district: integer (nullable = true)\n",
      " |-- zipcode: string (nullable = true)\n",
      " |-- case_lifetime: integer (nullable = true)\n",
      "\n"
     ]
    }
   ],
   "source": [
    "case.printSchema()"
   ]
  },
  {
   "cell_type": "code",
   "execution_count": 22,
   "metadata": {},
   "outputs": [],
   "source": [
    "# join dept to case\n",
    "df = case.join(dept, 'dept_division', 'left')"
   ]
  },
  {
   "cell_type": "code",
   "execution_count": 23,
   "metadata": {},
   "outputs": [
    {
     "name": "stdout",
     "output_type": "stream",
     "text": [
      "-RECORD 0--------------------------------------\n",
      " dept_division          | Field Operations     \n",
      " case_id                | 1014127332           \n",
      " case_opened_date       | 2018-01-01 00:42:00  \n",
      " case_closed_date       | 2018-01-01 12:29:00  \n",
      " case_due_date          | 2020-09-26 00:42:00  \n",
      " case_late              | false                \n",
      " num_days_late          | -998.5087616000001   \n",
      " case_closed            | true                 \n",
      " service_request_type   | Stray Animal         \n",
      " SLA_days               | 999.0                \n",
      " case_status            | Closed               \n",
      " source_id              | svcCRMLS             \n",
      " request_address        | 2315  el paso st,... \n",
      " council_district       | 5                    \n",
      " zipcode                | 78207                \n",
      " case_lifetime          | 0                    \n",
      " dept_name              | Animal Care Services \n",
      " standardized_dept_name | Animal Care Services \n",
      " dept_subject_to_SLA    | YES                  \n",
      "-RECORD 1--------------------------------------\n",
      " dept_division          | Storm Water          \n",
      " case_id                | 1014127333           \n",
      " case_opened_date       | 2018-01-01 00:46:00  \n",
      " case_closed_date       | 2018-01-03 08:11:00  \n",
      " case_due_date          | 2018-01-05 08:30:00  \n",
      " case_late              | false                \n",
      " num_days_late          | -2.0126041669999997  \n",
      " case_closed            | true                 \n",
      " service_request_type   | Removal Of Obstru... \n",
      " SLA_days               | 4.322222222          \n",
      " case_status            | Closed               \n",
      " source_id              | svcCRMSS             \n",
      " request_address        | 2215  goliad rd, ... \n",
      " council_district       | 3                    \n",
      " zipcode                | 78223                \n",
      " case_lifetime          | 2                    \n",
      " dept_name              | Trans & Cap Impro... \n",
      " standardized_dept_name | Trans & Cap Impro... \n",
      " dept_subject_to_SLA    | YES                  \n",
      "only showing top 2 rows\n",
      "\n"
     ]
    }
   ],
   "source": [
    "df.show(2, vertical=True)"
   ]
  },
  {
   "cell_type": "code",
   "execution_count": 24,
   "metadata": {},
   "outputs": [],
   "source": [
    "# join source to df\n",
    "df = df.join(source, \"source_id\", \"left\")"
   ]
  },
  {
   "cell_type": "code",
   "execution_count": 25,
   "metadata": {},
   "outputs": [
    {
     "name": "stdout",
     "output_type": "stream",
     "text": [
      "-RECORD 0--------------------------------------\n",
      " source_id              | svcCRMLS             \n",
      " dept_division          | Field Operations     \n",
      " case_id                | 1014127332           \n",
      " case_opened_date       | 2018-01-01 00:42:00  \n",
      " case_closed_date       | 2018-01-01 12:29:00  \n",
      " case_due_date          | 2020-09-26 00:42:00  \n",
      " case_late              | false                \n",
      " num_days_late          | -998.5087616000001   \n",
      " case_closed            | true                 \n",
      " service_request_type   | Stray Animal         \n",
      " SLA_days               | 999.0                \n",
      " case_status            | Closed               \n",
      " request_address        | 2315  el paso st,... \n",
      " council_district       | 5                    \n",
      " zipcode                | 78207                \n",
      " case_lifetime          | 0                    \n",
      " dept_name              | Animal Care Services \n",
      " standardized_dept_name | Animal Care Services \n",
      " dept_subject_to_SLA    | YES                  \n",
      " source_username        | svcCRMLS             \n",
      "-RECORD 1--------------------------------------\n",
      " source_id              | svcCRMSS             \n",
      " dept_division          | Storm Water          \n",
      " case_id                | 1014127333           \n",
      " case_opened_date       | 2018-01-01 00:46:00  \n",
      " case_closed_date       | 2018-01-03 08:11:00  \n",
      " case_due_date          | 2018-01-05 08:30:00  \n",
      " case_late              | false                \n",
      " num_days_late          | -2.0126041669999997  \n",
      " case_closed            | true                 \n",
      " service_request_type   | Removal Of Obstru... \n",
      " SLA_days               | 4.322222222          \n",
      " case_status            | Closed               \n",
      " request_address        | 2215  goliad rd, ... \n",
      " council_district       | 3                    \n",
      " zipcode                | 78223                \n",
      " case_lifetime          | 2                    \n",
      " dept_name              | Trans & Cap Impro... \n",
      " standardized_dept_name | Trans & Cap Impro... \n",
      " dept_subject_to_SLA    | YES                  \n",
      " source_username        | svcCRMSS             \n",
      "only showing top 2 rows\n",
      "\n"
     ]
    }
   ],
   "source": [
    "df.show(2, vertical=True)"
   ]
  },
  {
   "cell_type": "code",
   "execution_count": 26,
   "metadata": {},
   "outputs": [
    {
     "name": "stdout",
     "output_type": "stream",
     "text": [
      "root\n",
      " |-- source_id: string (nullable = true)\n",
      " |-- dept_division: string (nullable = true)\n",
      " |-- case_id: integer (nullable = true)\n",
      " |-- case_opened_date: timestamp (nullable = true)\n",
      " |-- case_closed_date: timestamp (nullable = true)\n",
      " |-- case_due_date: timestamp (nullable = true)\n",
      " |-- case_late: boolean (nullable = true)\n",
      " |-- num_days_late: double (nullable = true)\n",
      " |-- case_closed: boolean (nullable = true)\n",
      " |-- service_request_type: string (nullable = true)\n",
      " |-- SLA_days: double (nullable = true)\n",
      " |-- case_status: string (nullable = true)\n",
      " |-- request_address: string (nullable = true)\n",
      " |-- council_district: integer (nullable = true)\n",
      " |-- zipcode: string (nullable = true)\n",
      " |-- case_lifetime: integer (nullable = true)\n",
      " |-- dept_name: string (nullable = true)\n",
      " |-- standardized_dept_name: string (nullable = true)\n",
      " |-- dept_subject_to_SLA: string (nullable = true)\n",
      " |-- source_username: string (nullable = true)\n",
      "\n"
     ]
    }
   ],
   "source": [
    "df.printSchema()"
   ]
  },
  {
   "cell_type": "code",
   "execution_count": 27,
   "metadata": {},
   "outputs": [
    {
     "name": "stdout",
     "output_type": "stream",
     "text": [
      "-RECORD 0--------------------------------------\n",
      " source_id              | svcCRMSS             \n",
      " dept_division          | Code Enforcement     \n",
      " case_id                | 1014127352           \n",
      " case_opened_date       | 2018-01-01 07:08:00  \n",
      " case_closed_date       | 2018-01-02 15:34:00  \n",
      " case_due_date          | 2018-01-17 08:30:00  \n",
      " case_late              | false                \n",
      " num_days_late          | -14.70540509         \n",
      " case_closed            | true                 \n",
      " service_request_type   | Right Of Way/Side... \n",
      " SLA_days               | 16.05690972          \n",
      " case_status            | Closed               \n",
      " request_address        | 834  barrel point... \n",
      " council_district       | 4                    \n",
      " zipcode                | 78251                \n",
      " case_lifetime          | 1                    \n",
      " dept_name              | Code Enforcement ... \n",
      " standardized_dept_name | DSD/Code Enforcement \n",
      " dept_subject_to_SLA    | YES                  \n",
      " source_username        | svcCRMSS             \n",
      "-RECORD 1--------------------------------------\n",
      " source_id              | ns16326              \n",
      " dept_division          | Field Operations     \n",
      " case_id                | 1014127408           \n",
      " case_opened_date       | 2018-01-01 10:02:00  \n",
      " case_closed_date       | 2018-01-01 11:10:00  \n",
      " case_due_date          | 2018-01-01 13:02:00  \n",
      " case_late              | false                \n",
      " num_days_late          | -0.077939815         \n",
      " case_closed            | true                 \n",
      " service_request_type   | Injured Animal(Cr... \n",
      " SLA_days               | 0.125                \n",
      " case_status            | Closed               \n",
      " request_address        | state hwy 151 and... \n",
      " council_district       | 6                    \n",
      " zipcode                |                      \n",
      " case_lifetime          | 0                    \n",
      " dept_name              | Animal Care Services \n",
      " standardized_dept_name | Animal Care Services \n",
      " dept_subject_to_SLA    | YES                  \n",
      " source_username        | Norma K. Sotoodeh    \n",
      "-RECORD 2--------------------------------------\n",
      " source_id              | 139344               \n",
      " dept_division          | Field Operations     \n",
      " case_id                | 1014127482           \n",
      " case_opened_date       | 2018-01-01 12:55:00  \n",
      " case_closed_date       | 2018-01-01 20:59:00  \n",
      " case_due_date          | 2018-01-06 12:55:00  \n",
      " case_late              | false                \n",
      " num_days_late          | -4.663854167         \n",
      " case_closed            | true                 \n",
      " service_request_type   | Animal Neglect       \n",
      " SLA_days               | 5.0                  \n",
      " case_status            | Closed               \n",
      " request_address        | 323  haverford dr... \n",
      " council_district       | 10                   \n",
      " zipcode                | 78217                \n",
      " case_lifetime          | 0                    \n",
      " dept_name              | Animal Care Services \n",
      " standardized_dept_name | Animal Care Services \n",
      " dept_subject_to_SLA    | YES                  \n",
      " source_username        | Isis Mendoza         \n",
      "only showing top 3 rows\n",
      "\n"
     ]
    }
   ],
   "source": [
    "df.sample(fraction=.01).show(3, vertical=True)"
   ]
  },
  {
   "cell_type": "code",
   "execution_count": 28,
   "metadata": {},
   "outputs": [],
   "source": [
    "df = (\n",
    "    df.withColumn('dept_subject_to_SLA', col('dept_subject_to_SLA') == 'YES')\n",
    ")"
   ]
  },
  {
   "cell_type": "code",
   "execution_count": 29,
   "metadata": {},
   "outputs": [
    {
     "name": "stdout",
     "output_type": "stream",
     "text": [
      "-RECORD 0--------------------------------------\n",
      " source_id              | rs16746              \n",
      " dept_division          | Field Operations     \n",
      " case_id                | 1014127709           \n",
      " case_opened_date       | 2018-01-01 17:48:00  \n",
      " case_closed_date       | 2018-01-01 19:39:00  \n",
      " case_due_date          | 2018-01-11 17:48:00  \n",
      " case_late              | false                \n",
      " num_days_late          | -9.923032407         \n",
      " case_closed            | true                 \n",
      " service_request_type   | Public Nuisance(O... \n",
      " SLA_days               | 10.0                 \n",
      " case_status            | Closed               \n",
      " request_address        | 2929  rigsby, san... \n",
      " council_district       | 2                    \n",
      " zipcode                | 78222                \n",
      " case_lifetime          | 0                    \n",
      " dept_name              | Animal Care Services \n",
      " standardized_dept_name | Animal Care Services \n",
      " dept_subject_to_SLA    | true                 \n",
      " source_username        | Ronald S. Sorrell    \n",
      "-RECORD 1--------------------------------------\n",
      " source_id              | 124405               \n",
      " dept_division          | Field Operations     \n",
      " case_id                | 1014127724           \n",
      " case_opened_date       | 2018-01-01 18:19:00  \n",
      " case_closed_date       | 2018-01-01 20:04:00  \n",
      " case_due_date          | 2020-09-26 18:19:00  \n",
      " case_late              | false                \n",
      " num_days_late          | -998.9271064999999   \n",
      " case_closed            | true                 \n",
      " service_request_type   | Stray Animal         \n",
      " SLA_days               | 999.0                \n",
      " case_status            | Closed               \n",
      " request_address        | five palms dr and... \n",
      " council_district       | 4                    \n",
      " zipcode                |                      \n",
      " case_lifetime          | 0                    \n",
      " dept_name              | Animal Care Services \n",
      " standardized_dept_name | Animal Care Services \n",
      " dept_subject_to_SLA    | true                 \n",
      " source_username        | Lori Lara            \n",
      "-RECORD 2--------------------------------------\n",
      " source_id              | mt13131              \n",
      " dept_division          | Miscellaneous        \n",
      " case_id                | 1014127981           \n",
      " case_opened_date       | 2018-01-02 07:56:00  \n",
      " case_closed_date       | 2018-01-02 08:44:00  \n",
      " case_due_date          | 2018-01-04 07:56:00  \n",
      " case_late              | false                \n",
      " num_days_late          | -1.966608796         \n",
      " case_closed            | true                 \n",
      " service_request_type   | Dead Animal - Dog    \n",
      " SLA_days               | 2.0                  \n",
      " case_status            | Closed               \n",
      " request_address        | 3110  pinto pass,... \n",
      " council_district       | 10                   \n",
      " zipcode                | 78247                \n",
      " case_lifetime          | 0                    \n",
      " dept_name              | Solid Waste Manag... \n",
      " standardized_dept_name | Solid Waste          \n",
      " dept_subject_to_SLA    | true                 \n",
      " source_username        | Mary A Torres        \n",
      "only showing top 3 rows\n",
      "\n"
     ]
    }
   ],
   "source": [
    "df.sample(fraction=.01).show(3, vertical=True)"
   ]
  },
  {
   "cell_type": "markdown",
   "metadata": {},
   "source": [
    "---\n",
    "\n",
    "1. How old is the latest (in terms of days past SLA {`case_due_date`}) currently open issue? How long has the oldest (in terms of days since opened) currently opened issue been open?\n",
    "2. How many Stray Animal cases are there?\n",
    "3. How many service requests that are assigned to the Field Operations department (`dept_division`) are not classified as \"Officer Standby\" request type (`service_request_type`)?\n",
    "\n",
    "4. Convert the `council_district` column to a string column.\n",
    "\n",
    "5. Extract the year from the `case_closed_date` column.\n",
    "6. Convert `num_days_late` from days to hours in new `columns num_hours_late`.\n",
    "\n",
    "7. Join the case data with the source and department data.\n",
    "\n",
    "8. Are there any cases that do not have a request source?\n",
    "\n",
    "9. What are the top 10 service request types in terms of number of requests?\n",
    "\n",
    "10. What are the top 10 service request types in terms of average days late?\n",
    "11. Does number of days late depend on department?\n",
    "12. How do number of days late depend on department and request type?"
   ]
  },
  {
   "cell_type": "markdown",
   "metadata": {},
   "source": [
    "In case we want to query our dataframe with Spark SQL:"
   ]
  },
  {
   "cell_type": "code",
   "execution_count": 30,
   "metadata": {},
   "outputs": [],
   "source": [
    "df.createOrReplaceTempView('df')"
   ]
  },
  {
   "cell_type": "code",
   "execution_count": 31,
   "metadata": {},
   "outputs": [
    {
     "name": "stdout",
     "output_type": "stream",
     "text": [
      "+-------------+\n",
      "|days_past_due|\n",
      "+-------------+\n",
      "|         1239|\n",
      "|         1239|\n",
      "|         1239|\n",
      "|         1238|\n",
      "|         1236|\n",
      "|         1232|\n",
      "|         1232|\n",
      "|         1231|\n",
      "|         1230|\n",
      "|         1230|\n",
      "|         1226|\n",
      "|         1225|\n",
      "|         1225|\n",
      "|         1225|\n",
      "|         1222|\n",
      "+-------------+\n",
      "\n"
     ]
    }
   ],
   "source": [
    "# How old is the latest (in terms of days past SLA {case_due_date}) currently open issue?\n",
    "spark.sql('''\n",
    "SELECT DATEDIFF(current_timestamp, case_due_date) AS days_past_due\n",
    "FROM df\n",
    "WHERE NOT case_closed\n",
    "ORDER BY days_past_due DESC\n",
    "LIMIT 15\n",
    "''').show()\n",
    "# zach's solution"
   ]
  },
  {
   "cell_type": "code",
   "execution_count": 32,
   "metadata": {},
   "outputs": [
    {
     "name": "stdout",
     "output_type": "stream",
     "text": [
      "+---------------------------+\n",
      "|days_since_case_opened_date|\n",
      "+---------------------------+\n",
      "|                       1255|\n",
      "|                       1255|\n",
      "|                       1254|\n",
      "|                       1253|\n",
      "|                       1252|\n",
      "+---------------------------+\n",
      "only showing top 5 rows\n",
      "\n"
     ]
    }
   ],
   "source": [
    "# How long has the oldest (in terms of days since opened) currently opened issue been open?\n",
    "df.select(\n",
    "    when(col(\"case_closed\"), 0).otherwise(col(\"case_lifetime\")).alias(\"days_since_case_opened_date\")\n",
    ").orderBy(col(\"days_since_case_opened_date\"), ascending=False).show(5)"
   ]
  },
  {
   "cell_type": "code",
   "execution_count": 33,
   "metadata": {},
   "outputs": [
    {
     "name": "stdout",
     "output_type": "stream",
     "text": [
      "+------------------+\n",
      "|stray_animal_cases|\n",
      "+------------------+\n",
      "|             27361|\n",
      "+------------------+\n",
      "\n"
     ]
    }
   ],
   "source": [
    "# How many Stray Animal cases are there?\n",
    "df.select(\n",
    "    sum(when(col(\"service_request_type\") == \"Stray Animal\", 1).otherwise(0)).alias(\"stray_animal_cases\")\n",
    ").show()"
   ]
  },
  {
   "cell_type": "code",
   "execution_count": 34,
   "metadata": {},
   "outputs": [
    {
     "name": "stdout",
     "output_type": "stream",
     "text": [
      "Total rows in df = 855,269\n"
     ]
    }
   ],
   "source": [
    "print(f\"Total rows in df = {df.count():,}\")"
   ]
  },
  {
   "cell_type": "code",
   "execution_count": 35,
   "metadata": {},
   "outputs": [
    {
     "name": "stdout",
     "output_type": "stream",
     "text": [
      "+-----------------------------------------------------+\n",
      "|field_ops_assigned_and_not_officer_standby_classified|\n",
      "+-----------------------------------------------------+\n",
      "|                                               116295|\n",
      "+-----------------------------------------------------+\n",
      "\n"
     ]
    }
   ],
   "source": [
    "# How many service requests that are assigned to the Field Operations department (dept_division)\n",
    "# are not classified as \"Officer Standby\" request type (service_request_type)?\n",
    "df.select(\n",
    "    sum(when((col(\"dept_division\") == \"Field Operations\") & (col(\"service_request_type\") != \"Officer Standby\"), 1)\n",
    "        .otherwise(0))\n",
    "        .alias(\"field_ops_assigned_and_not_officer_standby_classified\")\n",
    ").show()"
   ]
  },
  {
   "cell_type": "code",
   "execution_count": 36,
   "metadata": {},
   "outputs": [
    {
     "name": "stdout",
     "output_type": "stream",
     "text": [
      "+--------------------+\n",
      "|service_request_type|\n",
      "+--------------------+\n",
      "|\"Vacant Lot-City ...|\n",
      "|\"Vacant Lot-City ...|\n",
      "|\"Vacant Lot-Count...|\n",
      "|\"Vacant Lot-Count...|\n",
      "|\"Vacant Lot-Priva...|\n",
      "|\"Vacant Lot-Priva...|\n",
      "|\"Vacant Lot-State...|\n",
      "|\"Vacant Lot-State...|\n",
      "|1st Call Bagged L...|\n",
      "|2nd Call Bagged L...|\n",
      "|3rd Call Bagged L...|\n",
      "|ADA Infrastructur...|\n",
      "|    ADA Obstructions|\n",
      "|Absentee Property...|\n",
      "|Accident Problem ...|\n",
      "|Additional Cart R...|\n",
      "|Additional Garbag...|\n",
      "|Additional Organi...|\n",
      "|Aggressive Animal...|\n",
      "|Aggressive Animal...|\n",
      "+--------------------+\n",
      "only showing top 20 rows\n",
      "\n"
     ]
    }
   ],
   "source": [
    "# unique service_request_type\n",
    "df.select(\n",
    "    col(\"service_request_type\")\n",
    ").orderBy(col(\"service_request_type\")).distinct().show()"
   ]
  },
  {
   "cell_type": "code",
   "execution_count": 37,
   "metadata": {},
   "outputs": [
    {
     "data": {
      "text/plain": [
       "[('source_id', 'string'),\n",
       " ('dept_division', 'string'),\n",
       " ('case_id', 'int'),\n",
       " ('case_opened_date', 'timestamp'),\n",
       " ('case_closed_date', 'timestamp'),\n",
       " ('case_due_date', 'timestamp'),\n",
       " ('case_late', 'boolean'),\n",
       " ('num_days_late', 'double'),\n",
       " ('case_closed', 'boolean'),\n",
       " ('service_request_type', 'string'),\n",
       " ('SLA_days', 'double'),\n",
       " ('case_status', 'string'),\n",
       " ('request_address', 'string'),\n",
       " ('council_district', 'int'),\n",
       " ('zipcode', 'string'),\n",
       " ('case_lifetime', 'int'),\n",
       " ('dept_name', 'string'),\n",
       " ('standardized_dept_name', 'string'),\n",
       " ('dept_subject_to_SLA', 'boolean'),\n",
       " ('source_username', 'string')]"
      ]
     },
     "execution_count": 37,
     "metadata": {},
     "output_type": "execute_result"
    }
   ],
   "source": [
    "# Convert the council_district column to a string column.\n",
    "\n",
    "# data types\n",
    "df.dtypes"
   ]
  },
  {
   "cell_type": "code",
   "execution_count": 38,
   "metadata": {},
   "outputs": [],
   "source": [
    "# Convert the council_district column to a string column.\n",
    "\n",
    "# transform council_district from an integer to string\n",
    "# we will not be doing arithmetic with council_district\n",
    "df = df.withColumn('council_district', format_string('%04d', col('council_district')))"
   ]
  },
  {
   "cell_type": "code",
   "execution_count": 39,
   "metadata": {},
   "outputs": [
    {
     "data": {
      "text/plain": [
       "[('source_id', 'string'),\n",
       " ('dept_division', 'string'),\n",
       " ('case_id', 'int'),\n",
       " ('case_opened_date', 'timestamp'),\n",
       " ('case_closed_date', 'timestamp'),\n",
       " ('case_due_date', 'timestamp'),\n",
       " ('case_late', 'boolean'),\n",
       " ('num_days_late', 'double'),\n",
       " ('case_closed', 'boolean'),\n",
       " ('service_request_type', 'string'),\n",
       " ('SLA_days', 'double'),\n",
       " ('case_status', 'string'),\n",
       " ('request_address', 'string'),\n",
       " ('council_district', 'string'),\n",
       " ('zipcode', 'string'),\n",
       " ('case_lifetime', 'int'),\n",
       " ('dept_name', 'string'),\n",
       " ('standardized_dept_name', 'string'),\n",
       " ('dept_subject_to_SLA', 'boolean'),\n",
       " ('source_username', 'string')]"
      ]
     },
     "execution_count": 39,
     "metadata": {},
     "output_type": "execute_result"
    }
   ],
   "source": [
    "df.dtypes"
   ]
  },
  {
   "cell_type": "code",
   "execution_count": 40,
   "metadata": {},
   "outputs": [
    {
     "name": "stdout",
     "output_type": "stream",
     "text": [
      "+----------------+\n",
      "|case_closed_year|\n",
      "+----------------+\n",
      "|            2018|\n",
      "|            2018|\n",
      "|            2018|\n",
      "|            2018|\n",
      "|            2018|\n",
      "+----------------+\n",
      "only showing top 5 rows\n",
      "\n"
     ]
    }
   ],
   "source": [
    "# Extract the year from the case_closed_date column.\n",
    "df.select(\n",
    "    year(col(\"case_closed_date\")).alias(\"case_closed_year\")\n",
    ").show(5)"
   ]
  },
  {
   "cell_type": "code",
   "execution_count": 41,
   "metadata": {},
   "outputs": [],
   "source": [
    "df = df.withColumn(\"case_closed_year\", year(col(\"case_closed_date\")))"
   ]
  },
  {
   "cell_type": "code",
   "execution_count": 42,
   "metadata": {},
   "outputs": [
    {
     "name": "stdout",
     "output_type": "stream",
     "text": [
      "-RECORD 0--------------------------------------\n",
      " source_id              | svcCRMLS             \n",
      " dept_division          | Field Operations     \n",
      " case_id                | 1014127332           \n",
      " case_opened_date       | 2018-01-01 00:42:00  \n",
      " case_closed_date       | 2018-01-01 12:29:00  \n",
      " case_due_date          | 2020-09-26 00:42:00  \n",
      " case_late              | false                \n",
      " num_days_late          | -998.5087616000001   \n",
      " case_closed            | true                 \n",
      " service_request_type   | Stray Animal         \n",
      " SLA_days               | 999.0                \n",
      " case_status            | Closed               \n",
      " request_address        | 2315  el paso st,... \n",
      " council_district       | 0005                 \n",
      " zipcode                | 78207                \n",
      " case_lifetime          | 0                    \n",
      " dept_name              | Animal Care Services \n",
      " standardized_dept_name | Animal Care Services \n",
      " dept_subject_to_SLA    | true                 \n",
      " source_username        | svcCRMLS             \n",
      " case_closed_year       | 2018                 \n",
      "-RECORD 1--------------------------------------\n",
      " source_id              | svcCRMSS             \n",
      " dept_division          | Storm Water          \n",
      " case_id                | 1014127333           \n",
      " case_opened_date       | 2018-01-01 00:46:00  \n",
      " case_closed_date       | 2018-01-03 08:11:00  \n",
      " case_due_date          | 2018-01-05 08:30:00  \n",
      " case_late              | false                \n",
      " num_days_late          | -2.0126041669999997  \n",
      " case_closed            | true                 \n",
      " service_request_type   | Removal Of Obstru... \n",
      " SLA_days               | 4.322222222          \n",
      " case_status            | Closed               \n",
      " request_address        | 2215  goliad rd, ... \n",
      " council_district       | 0003                 \n",
      " zipcode                | 78223                \n",
      " case_lifetime          | 2                    \n",
      " dept_name              | Trans & Cap Impro... \n",
      " standardized_dept_name | Trans & Cap Impro... \n",
      " dept_subject_to_SLA    | true                 \n",
      " source_username        | svcCRMSS             \n",
      " case_closed_year       | 2018                 \n",
      "-RECORD 2--------------------------------------\n",
      " source_id              | svcCRMSS             \n",
      " dept_division          | Storm Water          \n",
      " case_id                | 1014127334           \n",
      " case_opened_date       | 2018-01-01 00:48:00  \n",
      " case_closed_date       | 2018-01-02 07:57:00  \n",
      " case_due_date          | 2018-01-05 08:30:00  \n",
      " case_late              | false                \n",
      " num_days_late          | -3.022337963         \n",
      " case_closed            | true                 \n",
      " service_request_type   | Removal Of Obstru... \n",
      " SLA_days               | 4.320729167          \n",
      " case_status            | Closed               \n",
      " request_address        | 102  palfrey st w... \n",
      " council_district       | 0003                 \n",
      " zipcode                | 78223                \n",
      " case_lifetime          | 1                    \n",
      " dept_name              | Trans & Cap Impro... \n",
      " standardized_dept_name | Trans & Cap Impro... \n",
      " dept_subject_to_SLA    | true                 \n",
      " source_username        | svcCRMSS             \n",
      " case_closed_year       | 2018                 \n",
      "only showing top 3 rows\n",
      "\n"
     ]
    }
   ],
   "source": [
    "df.show(3, vertical=True)"
   ]
  },
  {
   "cell_type": "code",
   "execution_count": 43,
   "metadata": {},
   "outputs": [],
   "source": [
    "# Convert num_days_late from days to hours in new column num_hours_late.\n",
    "df = df.withColumn(\"num_hours_late\", col(\"num_days_late\") * 24)"
   ]
  },
  {
   "cell_type": "code",
   "execution_count": 44,
   "metadata": {},
   "outputs": [
    {
     "name": "stdout",
     "output_type": "stream",
     "text": [
      "-RECORD 0--------------------------------------\n",
      " source_id              | svcCRMSS             \n",
      " dept_division          | Field Operations     \n",
      " case_id                | 1014127483           \n",
      " case_opened_date       | 2018-01-01 12:57:00  \n",
      " case_closed_date       | 2018-01-01 15:42:00  \n",
      " case_due_date          | 2018-01-01 15:57:00  \n",
      " case_late              | false                \n",
      " num_days_late          | -0.010729167         \n",
      " case_closed            | true                 \n",
      " service_request_type   | Animal Cruelty(Cr... \n",
      " SLA_days               | 0.125                \n",
      " case_status            | Closed               \n",
      " request_address        | 1975  rayburn dr,... \n",
      " council_district       | 0004                 \n",
      " zipcode                | 78224                \n",
      " case_lifetime          | 0                    \n",
      " dept_name              | Animal Care Services \n",
      " standardized_dept_name | Animal Care Services \n",
      " dept_subject_to_SLA    | true                 \n",
      " source_username        | svcCRMSS             \n",
      " case_closed_year       | 2018                 \n",
      " num_hours_late         | -0.257500008         \n",
      "-RECORD 1--------------------------------------\n",
      " source_id              | svcCRMSS             \n",
      " dept_division          | Trades               \n",
      " case_id                | 1014128526           \n",
      " case_opened_date       | 2018-01-02 10:02:00  \n",
      " case_closed_date       | 2018-01-04 11:48:00  \n",
      " case_due_date          | 2018-01-05 10:02:00  \n",
      " case_late              | false                \n",
      " num_days_late          | -0.926226852         \n",
      " case_closed            | true                 \n",
      " service_request_type   | Graffiti             \n",
      " SLA_days               | 3.0                  \n",
      " case_status            | Closed               \n",
      " request_address        | holz st and landa... \n",
      " council_district       | 0005                 \n",
      " zipcode                |                      \n",
      " case_lifetime          | 2                    \n",
      " dept_name              | Parks and Recreation \n",
      " standardized_dept_name | Parks & Recreation   \n",
      " dept_subject_to_SLA    | true                 \n",
      " source_username        | svcCRMSS             \n",
      " case_closed_year       | 2018                 \n",
      " num_hours_late         | -22.229444448        \n",
      "-RECORD 2--------------------------------------\n",
      " source_id              | MW16328              \n",
      " dept_division          | Waste Collection     \n",
      " case_id                | 1014128537           \n",
      " case_opened_date       | 2018-01-02 10:04:00  \n",
      " case_closed_date       | 2018-01-08 11:09:00  \n",
      " case_due_date          | 2018-01-05 10:04:00  \n",
      " case_late              | true                 \n",
      " num_days_late          | 3.045590278          \n",
      " case_closed            | true                 \n",
      " service_request_type   | Solid Waste Fees ... \n",
      " SLA_days               | 3.0                  \n",
      " case_status            | Closed               \n",
      " request_address        | 14935  oak summit... \n",
      " council_district       | 0010                 \n",
      " zipcode                | 78232                \n",
      " case_lifetime          | 6                    \n",
      " dept_name              | Solid Waste Manag... \n",
      " standardized_dept_name | Solid Waste          \n",
      " dept_subject_to_SLA    | true                 \n",
      " source_username        | Maria Woodard        \n",
      " case_closed_year       | 2018                 \n",
      " num_hours_late         | 73.094166672         \n",
      "only showing top 3 rows\n",
      "\n"
     ]
    }
   ],
   "source": [
    "df.sample(fraction=.01).show(3, vertical=True)"
   ]
  },
  {
   "cell_type": "code",
   "execution_count": 45,
   "metadata": {},
   "outputs": [],
   "source": [
    "# Join the case data with the source and department data\n",
    "# done above"
   ]
  },
  {
   "cell_type": "code",
   "execution_count": 46,
   "metadata": {},
   "outputs": [
    {
     "name": "stdout",
     "output_type": "stream",
     "text": [
      "root\n",
      " |-- source_id: string (nullable = true)\n",
      " |-- dept_division: string (nullable = true)\n",
      " |-- case_id: integer (nullable = true)\n",
      " |-- case_opened_date: timestamp (nullable = true)\n",
      " |-- case_closed_date: timestamp (nullable = true)\n",
      " |-- case_due_date: timestamp (nullable = true)\n",
      " |-- case_late: boolean (nullable = true)\n",
      " |-- num_days_late: double (nullable = true)\n",
      " |-- case_closed: boolean (nullable = true)\n",
      " |-- service_request_type: string (nullable = true)\n",
      " |-- SLA_days: double (nullable = true)\n",
      " |-- case_status: string (nullable = true)\n",
      " |-- request_address: string (nullable = true)\n",
      " |-- council_district: string (nullable = false)\n",
      " |-- zipcode: string (nullable = true)\n",
      " |-- case_lifetime: integer (nullable = true)\n",
      " |-- dept_name: string (nullable = true)\n",
      " |-- standardized_dept_name: string (nullable = true)\n",
      " |-- dept_subject_to_SLA: boolean (nullable = true)\n",
      " |-- source_username: string (nullable = true)\n",
      " |-- case_closed_year: integer (nullable = true)\n",
      " |-- num_hours_late: double (nullable = true)\n",
      "\n"
     ]
    }
   ],
   "source": [
    "# Are there any cases that do not have a request source?\n",
    "df.printSchema()"
   ]
  },
  {
   "cell_type": "code",
   "execution_count": 47,
   "metadata": {},
   "outputs": [
    {
     "name": "stdout",
     "output_type": "stream",
     "text": [
      "+------------------+\n",
      "|(source_id = NULL)|\n",
      "+------------------+\n",
      "|             false|\n",
      "|             false|\n",
      "|             false|\n",
      "|             false|\n",
      "|             false|\n",
      "|             false|\n",
      "|             false|\n",
      "|             false|\n",
      "|             false|\n",
      "|             false|\n",
      "|             false|\n",
      "|             false|\n",
      "|             false|\n",
      "|             false|\n",
      "|             false|\n",
      "|             false|\n",
      "|             false|\n",
      "|             false|\n",
      "|             false|\n",
      "|             false|\n",
      "+------------------+\n",
      "only showing top 20 rows\n",
      "\n"
     ]
    }
   ],
   "source": [
    "df.select(\n",
    "    col(\"source_id\") == \"NULL\"\n",
    ").show()"
   ]
  },
  {
   "cell_type": "code",
   "execution_count": 48,
   "metadata": {},
   "outputs": [
    {
     "name": "stdout",
     "output_type": "stream",
     "text": [
      "+---------+\n",
      "|source_id|\n",
      "+---------+\n",
      "|   100137|\n",
      "|   103582|\n",
      "|   106463|\n",
      "|   119403|\n",
      "|   119555|\n",
      "|   119868|\n",
      "|   120752|\n",
      "|   124405|\n",
      "|   132408|\n",
      "|   135723|\n",
      "|   136202|\n",
      "|   136979|\n",
      "|   137943|\n",
      "|   138605|\n",
      "|   138650|\n",
      "|   138793|\n",
      "|   138810|\n",
      "|   139342|\n",
      "|   139344|\n",
      "|   139345|\n",
      "+---------+\n",
      "only showing top 20 rows\n",
      "\n"
     ]
    }
   ],
   "source": [
    "df.select(col(\"source_id\")).orderBy(col(\"source_id\")).distinct().show()"
   ]
  },
  {
   "cell_type": "code",
   "execution_count": 49,
   "metadata": {},
   "outputs": [
    {
     "name": "stdout",
     "output_type": "stream",
     "text": [
      "+--------------------+\n",
      "|source_username_null|\n",
      "+--------------------+\n",
      "|            not null|\n",
      "|            not null|\n",
      "|            not null|\n",
      "|            not null|\n",
      "|            not null|\n",
      "|            not null|\n",
      "|            not null|\n",
      "|            not null|\n",
      "|            not null|\n",
      "|            not null|\n",
      "|            not null|\n",
      "|            not null|\n",
      "|            not null|\n",
      "|            not null|\n",
      "|            not null|\n",
      "|            not null|\n",
      "|            not null|\n",
      "|            not null|\n",
      "|            not null|\n",
      "|            not null|\n",
      "+--------------------+\n",
      "only showing top 20 rows\n",
      "\n"
     ]
    }
   ],
   "source": [
    "df.select(\n",
    "        when(col(\"source_username\") == \"null\", col(\"source_username\"))\n",
    "        .otherwise(\"not null\").alias(\"source_username_null\")\n",
    ").orderBy(col(\"source_username_null\"), ascending=False).show()"
   ]
  },
  {
   "cell_type": "code",
   "execution_count": 50,
   "metadata": {},
   "outputs": [
    {
     "name": "stdout",
     "output_type": "stream",
     "text": [
      "+--------------+\n",
      "|source_id_null|\n",
      "+--------------+\n",
      "|      not null|\n",
      "|      not null|\n",
      "|      not null|\n",
      "|      not null|\n",
      "|      not null|\n",
      "|      not null|\n",
      "|      not null|\n",
      "|      not null|\n",
      "|      not null|\n",
      "|      not null|\n",
      "|      not null|\n",
      "|      not null|\n",
      "|      not null|\n",
      "|      not null|\n",
      "|      not null|\n",
      "|      not null|\n",
      "|      not null|\n",
      "|      not null|\n",
      "|      not null|\n",
      "|      not null|\n",
      "+--------------+\n",
      "only showing top 20 rows\n",
      "\n"
     ]
    }
   ],
   "source": [
    "df.select(\n",
    "        when(col(\"source_id\") == \"null\", col(\"source_id\"))\n",
    "        .otherwise(\"not null\").alias(\"source_id_null\")\n",
    ").orderBy(col(\"source_id_null\"), ascending=True).show()"
   ]
  },
  {
   "cell_type": "code",
   "execution_count": 51,
   "metadata": {},
   "outputs": [],
   "source": [
    "# Are there any cases that do not have a request source?\n",
    "# no"
   ]
  },
  {
   "cell_type": "code",
   "execution_count": 52,
   "metadata": {},
   "outputs": [
    {
     "name": "stdout",
     "output_type": "stream",
     "text": [
      "+------------+\n",
      "|sum(is_null)|\n",
      "+------------+\n",
      "|           0|\n",
      "+------------+\n",
      "\n"
     ]
    }
   ],
   "source": [
    "# Are there any cases that do not have a request source?\n",
    "# zach's solution\n",
    "\n",
    "df.select(df.source_id.isNull().cast('int').alias('is_null')).agg(sum('is_null')).show()"
   ]
  },
  {
   "cell_type": "code",
   "execution_count": 53,
   "metadata": {},
   "outputs": [
    {
     "data": {
      "text/plain": [
       "0"
      ]
     },
     "execution_count": 53,
     "metadata": {},
     "output_type": "execute_result"
    }
   ],
   "source": [
    "# Are there any cases that do not have a request source?\n",
    "# cameron's solution\n",
    "df.where(df.source_id.isNull()).count()"
   ]
  },
  {
   "cell_type": "code",
   "execution_count": 54,
   "metadata": {},
   "outputs": [
    {
     "name": "stdout",
     "output_type": "stream",
     "text": [
      "+--------------------+-----+\n",
      "|service_request_type|count|\n",
      "+--------------------+-----+\n",
      "|           No Pickup|89210|\n",
      "|Overgrown Yard/Trash|66403|\n",
      "|        Bandit Signs|32968|\n",
      "|        Damaged Cart|31163|\n",
      "|Front Or Side Yar...|28920|\n",
      "|        Stray Animal|27361|\n",
      "|Aggressive Animal...|25492|\n",
      "|Cart Exchange Req...|22608|\n",
      "|Junk Vehicle On P...|21649|\n",
      "|     Pot Hole Repair|20827|\n",
      "+--------------------+-----+\n",
      "only showing top 10 rows\n",
      "\n"
     ]
    }
   ],
   "source": [
    "# What are the top 10 service request types in terms of number of requests?\n",
    "df.groupBy(\"service_request_type\").count().orderBy(\"count\", ascending=False).show(10)"
   ]
  },
  {
   "cell_type": "code",
   "execution_count": 55,
   "metadata": {},
   "outputs": [
    {
     "name": "stdout",
     "output_type": "stream",
     "text": [
      "+--------------------------------------+------------------+-------+\n",
      "|service_request_type                  |avg(num_days_late)|n_cases|\n",
      "+--------------------------------------+------------------+-------+\n",
      "|Zoning: Recycle Yard                  |210.89201994318182|132    |\n",
      "|Zoning: Junk Yards                    |200.20517608494276|262    |\n",
      "|Structure/Housing Maintenance         |190.20707698509807|51     |\n",
      "|Donation Container Enforcement        |171.09115313942615|122    |\n",
      "|Storage of Used Mattress              |163.96812829714287|7      |\n",
      "|Labeling for Used Mattress            |162.43032902285717|7      |\n",
      "|Record Keeping of Used Mattresses     |153.99724039428568|7      |\n",
      "|Signage Requied for Sale of Used Mattr|151.63868055333333|12     |\n",
      "|Traffic Signal Graffiti               |137.64583330000002|4      |\n",
      "|License Requied Used Mattress Sales   |128.79828704142858|7      |\n",
      "+--------------------------------------+------------------+-------+\n",
      "only showing top 10 rows\n",
      "\n"
     ]
    }
   ],
   "source": [
    "# What are the top 10 service request types in terms of average days late?\n",
    "(\n",
    "    df.where(\"case_late\")\n",
    "    .select(\n",
    "        col(\"num_days_late\"), col(\"service_request_type\")\n",
    "        )\n",
    "    .groupBy(\"service_request_type\")\n",
    "    .agg(mean(\"num_days_late\"), count(\"*\").alias(\"n_cases\"))\n",
    "    .orderBy(\"avg(num_days_late)\", ascending=False)\n",
    "    .show(10, truncate=False)\n",
    ")"
   ]
  },
  {
   "cell_type": "code",
   "execution_count": 56,
   "metadata": {},
   "outputs": [
    {
     "name": "stdout",
     "output_type": "stream",
     "text": [
      "+----------------------+------------------+\n",
      "|standardized_dept_name|avg(num_days_late)|\n",
      "+----------------------+------------------+\n",
      "|      Customer Service| 88.18248182589822|\n",
      "|  DSD/Code Enforcement|49.506339986350454|\n",
      "|  Animal Care Services|  23.4467296347382|\n",
      "|    Parks & Recreation|22.427807192724135|\n",
      "|  Trans & Cap Impro...|10.662950455078674|\n",
      "|           Solid Waste|7.1471727895574135|\n",
      "|          Metro Health| 6.494699602827871|\n",
      "+----------------------+------------------+\n",
      "\n",
      "+--------------------+------------------+\n",
      "|           dept_name|avg(num_days_late)|\n",
      "+--------------------+------------------+\n",
      "|                null|210.89201994318182|\n",
      "|    Customer Service| 88.18248182589822|\n",
      "|Development Services| 67.22248485687263|\n",
      "|Code Enforcement ...|48.085502375106884|\n",
      "|Animal Care Services|  23.4467296347382|\n",
      "|Parks and Recreation|22.427807192724135|\n",
      "|Trans & Cap Impro...|10.662950455078674|\n",
      "|Solid Waste Manag...|7.1471727895574135|\n",
      "|        Metro Health| 6.494699602827871|\n",
      "+--------------------+------------------+\n",
      "\n"
     ]
    }
   ],
   "source": [
    "# Does number of days late depend on department?\n",
    "(\n",
    "    df.where(\"case_late\")\n",
    "    .select(\n",
    "        col(\"num_days_late\"), col(\"standardized_dept_name\")\n",
    "    ).groupBy(\"standardized_dept_name\").avg().orderBy(\"avg(num_days_late)\", ascending=False).show()\n",
    ")\n",
    "\n",
    "(\n",
    "    df.where(\"case_late\")\n",
    "    .select(\n",
    "        col(\"num_days_late\"), col(\"dept_name\")\n",
    "    ).groupBy(\"dept_name\").avg().orderBy(\"avg(num_days_late)\", ascending=False).show()\n",
    ")"
   ]
  },
  {
   "cell_type": "code",
   "execution_count": 57,
   "metadata": {},
   "outputs": [
    {
     "name": "stdout",
     "output_type": "stream",
     "text": [
      "+----------------------+------------------+------------+\n",
      "|standardized_dept_name|avg(num_days_late)|n_cases_late|\n",
      "+----------------------+------------------+------------+\n",
      "|      Customer Service| 88.18248182589822|        2035|\n",
      "|  DSD/Code Enforcement|49.506339986350454|       26439|\n",
      "|  Animal Care Services|  23.4467296347382|       23751|\n",
      "|    Parks & Recreation|22.427807192724135|        3810|\n",
      "|  Trans & Cap Impro...|10.662950455078674|        5529|\n",
      "|           Solid Waste|7.1471727895574135|       33729|\n",
      "|          Metro Health| 6.494699602827871|         854|\n",
      "+----------------------+------------------+------------+\n",
      "\n",
      "+--------------------+------------------+------------+\n",
      "|           dept_name|avg(num_days_late)|n_cases_late|\n",
      "+--------------------+------------------+------------+\n",
      "|                null|210.89201994318182|         132|\n",
      "|    Customer Service| 88.18248182589822|        2035|\n",
      "|Development Services| 67.22248485687263|         840|\n",
      "|Code Enforcement ...|48.085502375106884|       25467|\n",
      "|Animal Care Services|  23.4467296347382|       23751|\n",
      "|Parks and Recreation|22.427807192724135|        3810|\n",
      "|Trans & Cap Impro...|10.662950455078674|        5529|\n",
      "|Solid Waste Manag...|7.1471727895574135|       33729|\n",
      "|        Metro Health| 6.494699602827871|         854|\n",
      "+--------------------+------------------+------------+\n",
      "\n"
     ]
    }
   ],
   "source": [
    "# testing black\n",
    "(df.where(\"case_late\").select(col(\"num_days_late\"), col(\"standardized_dept_name\")).groupBy(\"standardized_dept_name\").agg(mean(\"num_days_late\"), count(\"*\").alias(\"n_cases_late\")).orderBy(\"avg(num_days_late)\", ascending=False).show())\n",
    "\n",
    "(\n",
    "    df.where(\"case_late\")\n",
    "    .select(col(\"num_days_late\"), col(\"dept_name\"))\n",
    "    .groupBy(\"dept_name\")\n",
    "    .agg(mean(\"num_days_late\"), count(\"*\").alias(\"n_cases_late\"))\n",
    "    .orderBy(\"avg(num_days_late)\", ascending=False)\n",
    "    .show()\n",
    ")"
   ]
  },
  {
   "cell_type": "code",
   "execution_count": 58,
   "metadata": {
    "scrolled": false
   },
   "outputs": [
    {
     "name": "stdout",
     "output_type": "stream",
     "text": [
      "+----------------------+--------------------+------------------+\n",
      "|standardized_dept_name|service_request_type|avg(num_days_late)|\n",
      "+----------------------+--------------------+------------------+\n",
      "|  DSD/Code Enforcement|  Zoning: Junk Yards|175.95636210420943|\n",
      "|  DSD/Code Enforcement|Labeling for Used...|162.43032902285717|\n",
      "|  DSD/Code Enforcement|Record Keeping of...|153.99724039428568|\n",
      "|  DSD/Code Enforcement|Signage Requied f...|151.63868055333333|\n",
      "|  DSD/Code Enforcement|Storage of Used M...|142.11255641500003|\n",
      "|  DSD/Code Enforcement|Zoning: Recycle Yard|135.92851612479797|\n",
      "|  DSD/Code Enforcement|Donation Containe...|131.75610506358706|\n",
      "|  DSD/Code Enforcement|License Requied U...|128.79828704142858|\n",
      "|  Trans & Cap Impro...|Traffic Signal Gr...|101.79846062200002|\n",
      "|      Customer Service|           Complaint|  72.8705023031169|\n",
      "|  DSD/Code Enforcement|             Vendors| 66.54809898507798|\n",
      "|    Parks & Recreation|Reservation Assis...|       66.03116319|\n",
      "|  DSD/Code Enforcement|   No Address Posted| 59.87564073362592|\n",
      "|  DSD/Code Enforcement|         Curbstoning|59.808628977605274|\n",
      "|           Solid Waste|Contracted Servic...|    56.72045236025|\n",
      "|  Trans & Cap Impro...|Status: On-Going ...|37.570646702950064|\n",
      "|  DSD/Code Enforcement|Historical Buildi...|31.567148565454545|\n",
      "|  DSD/Code Enforcement|Used Mattress Ins...|30.168053900795922|\n",
      "|           Solid Waste| Service Information| 29.17735574905488|\n",
      "|    Parks & Recreation|Park Building Mai...|24.322320840895838|\n",
      "+----------------------+--------------------+------------------+\n",
      "only showing top 20 rows\n",
      "\n",
      "+--------------------+--------------------+------------------+\n",
      "|           dept_name|service_request_type|avg(num_days_late)|\n",
      "+--------------------+--------------------+------------------+\n",
      "|Code Enforcement ...|  Zoning: Junk Yards|175.95636210420943|\n",
      "|Code Enforcement ...|Labeling for Used...|162.43032902285717|\n",
      "|Code Enforcement ...|Record Keeping of...|153.99724039428568|\n",
      "|Code Enforcement ...|Signage Requied f...|151.63868055333333|\n",
      "|Code Enforcement ...|Storage of Used M...|142.11255641500003|\n",
      "|                null|Zoning: Recycle Yard|135.92851612479797|\n",
      "|Code Enforcement ...|Donation Containe...|131.75610506358706|\n",
      "|Code Enforcement ...|License Requied U...|128.79828704142858|\n",
      "|Trans & Cap Impro...|Traffic Signal Gr...|101.79846062200002|\n",
      "|    Customer Service|           Complaint|  72.8705023031169|\n",
      "|Code Enforcement ...|             Vendors| 66.54809898507798|\n",
      "|Parks and Recreation|Reservation Assis...|       66.03116319|\n",
      "|Code Enforcement ...|   No Address Posted| 59.87564073362592|\n",
      "|Code Enforcement ...|         Curbstoning|59.808628977605274|\n",
      "|Solid Waste Manag...|Contracted Servic...|    56.72045236025|\n",
      "|Trans & Cap Impro...|Status: On-Going ...|37.570646702950064|\n",
      "|Code Enforcement ...|Historical Buildi...|31.567148565454545|\n",
      "|Code Enforcement ...|Used Mattress Ins...|30.168053900795922|\n",
      "|Solid Waste Manag...| Service Information| 29.17735574905488|\n",
      "|Parks and Recreation|Park Building Mai...|24.322320840895838|\n",
      "+--------------------+--------------------+------------------+\n",
      "only showing top 20 rows\n",
      "\n"
     ]
    }
   ],
   "source": [
    "# How do number of days late depend on department and request type?\n",
    "df.select(\n",
    "        col(\"num_days_late\"), col(\"standardized_dept_name\"), col(\"service_request_type\")\n",
    ").groupBy([\"standardized_dept_name\", \"service_request_type\"]).avg().orderBy(\"avg(num_days_late)\", ascending=False).show()\n",
    "\n",
    "df.select(\n",
    "        col(\"num_days_late\"), col(\"dept_name\"), col(\"service_request_type\")\n",
    ").groupBy([\"dept_name\", \"service_request_type\"]).avg().orderBy(\"avg(num_days_late)\", ascending=False).show()"
   ]
  },
  {
   "cell_type": "markdown",
   "metadata": {},
   "source": [
    "---\n",
    "You might have noticed that the latest date in the dataset is fairly far off from the present day. To account for this, replace any occurances of the current time with the maximum date from the dataset."
   ]
  },
  {
   "cell_type": "markdown",
   "metadata": {},
   "source": [
    "- `.first()`: gives us the first row object\n",
    "- `.head()`: gives us a list of the first `n` row objects\n",
    "- `.collect()`: turnes *all* the rows into a list of row objects **be careful here**"
   ]
  },
  {
   "cell_type": "code",
   "execution_count": 59,
   "metadata": {},
   "outputs": [
    {
     "data": {
      "text/plain": [
       "pyspark.sql.types.Row"
      ]
     },
     "execution_count": 59,
     "metadata": {},
     "output_type": "execute_result"
    }
   ],
   "source": [
    "type(df.select(max(\"case_opened_date\")).first())"
   ]
  },
  {
   "cell_type": "code",
   "execution_count": 60,
   "metadata": {},
   "outputs": [
    {
     "data": {
      "text/plain": [
       "datetime.datetime"
      ]
     },
     "execution_count": 60,
     "metadata": {},
     "output_type": "execute_result"
    }
   ],
   "source": [
    "type(df.select(max(\"case_opened_date\")).first()[0])"
   ]
  },
  {
   "cell_type": "code",
   "execution_count": 61,
   "metadata": {},
   "outputs": [
    {
     "data": {
      "text/plain": [
       "datetime.datetime(2018, 8, 8, 10, 38)"
      ]
     },
     "execution_count": 61,
     "metadata": {},
     "output_type": "execute_result"
    }
   ],
   "source": [
    "max_date = df.select(max(\"case_opened_date\")).first()[0]\n",
    "max_date"
   ]
  },
  {
   "cell_type": "code",
   "execution_count": 62,
   "metadata": {},
   "outputs": [
    {
     "data": {
      "text/plain": [
       "'2018-08-08 10:38:00'"
      ]
     },
     "execution_count": 62,
     "metadata": {},
     "output_type": "execute_result"
    }
   ],
   "source": [
    "max_date = max_date.strftime(\"%Y-%m-%d %H:%M:%S\")\n",
    "max_date"
   ]
  },
  {
   "cell_type": "code",
   "execution_count": null,
   "metadata": {},
   "outputs": [],
   "source": []
  }
 ],
 "metadata": {
  "kernelspec": {
   "display_name": "Python 3",
   "language": "python",
   "name": "python3"
  },
  "language_info": {
   "codemirror_mode": {
    "name": "ipython",
    "version": 3
   },
   "file_extension": ".py",
   "mimetype": "text/x-python",
   "name": "python",
   "nbconvert_exporter": "python",
   "pygments_lexer": "ipython3",
   "version": "3.7.4"
  }
 },
 "nbformat": 4,
 "nbformat_minor": 2
}
